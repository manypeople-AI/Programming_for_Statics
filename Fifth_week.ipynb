{
 "cells": [
  {
   "cell_type": "markdown",
   "metadata": {
    "id": "qWfIX1I7GZpq"
   },
   "source": [
    "# Introduction\n",
    "\n",
    "The first step in most data analytics projects is reading the data file. In this exercise, you'll create Series and DataFrame objects, both by hand and by reading data files.\n",
    "\n",
    "Run the code cell below to load libraries you will need (including code to check your answers)."
   ]
  },
  {
   "cell_type": "code",
   "execution_count": 1,
   "metadata": {
    "id": "01Vzj9VaGZps"
   },
   "outputs": [],
   "source": [
    "import pandas as pd"
   ]
  },
  {
   "cell_type": "markdown",
   "metadata": {
    "id": "IDPIZRw-GZpt"
   },
   "source": [
    "# Exercises"
   ]
  },
  {
   "cell_type": "markdown",
   "metadata": {
    "id": "fbZAgnlkGZpu"
   },
   "source": [
    "## 1.\n",
    "\n",
    "In the cell below, create a DataFrame `fruits` that looks like this:\n",
    "\n",
    "![](https://i.imgur.com/Ax3pp2A.png)"
   ]
  },
  {
   "cell_type": "code",
   "execution_count": 2,
   "metadata": {
    "colab": {
     "base_uri": "https://localhost:8080/",
     "height": 81
    },
    "id": "3xZswhL9GZpu",
    "outputId": "eb9399f8-f47f-4044-c778-36937643c93c"
   },
   "outputs": [
    {
     "data": {
      "text/html": [
       "<div>\n",
       "<style scoped>\n",
       "    .dataframe tbody tr th:only-of-type {\n",
       "        vertical-align: middle;\n",
       "    }\n",
       "\n",
       "    .dataframe tbody tr th {\n",
       "        vertical-align: top;\n",
       "    }\n",
       "\n",
       "    .dataframe thead th {\n",
       "        text-align: right;\n",
       "    }\n",
       "</style>\n",
       "<table border=\"1\" class=\"dataframe\">\n",
       "  <thead>\n",
       "    <tr style=\"text-align: right;\">\n",
       "      <th></th>\n",
       "      <th>Apples</th>\n",
       "      <th>Bananas</th>\n",
       "    </tr>\n",
       "  </thead>\n",
       "  <tbody>\n",
       "    <tr>\n",
       "      <th>0</th>\n",
       "      <td>30</td>\n",
       "      <td>21</td>\n",
       "    </tr>\n",
       "  </tbody>\n",
       "</table>\n",
       "</div>"
      ],
      "text/plain": [
       "   Apples  Bananas\n",
       "0      30       21"
      ]
     },
     "execution_count": 2,
     "metadata": {},
     "output_type": "execute_result"
    }
   ],
   "source": [
    "# dictionary를 이용해 dataframe 생성\n",
    "fruits = pd.DataFrame({'Apples' : [30],\n",
    "                       'Bananas' : [21]})\n",
    "fruits"
   ]
  },
  {
   "cell_type": "markdown",
   "metadata": {
    "id": "WesCufgLGZpw"
   },
   "source": [
    "## 2.\n",
    "\n",
    "Create a dataframe `fruit_sales` that matches the diagram below:\n",
    "\n",
    "![](https://i.imgur.com/CHPn7ZF.png)"
   ]
  },
  {
   "cell_type": "code",
   "execution_count": 3,
   "metadata": {
    "colab": {
     "base_uri": "https://localhost:8080/",
     "height": 112
    },
    "id": "6KFRP6NvZz6Q",
    "outputId": "77f162bd-c8fc-4cb8-eaed-2cedf074bdcc"
   },
   "outputs": [
    {
     "data": {
      "text/html": [
       "<div>\n",
       "<style scoped>\n",
       "    .dataframe tbody tr th:only-of-type {\n",
       "        vertical-align: middle;\n",
       "    }\n",
       "\n",
       "    .dataframe tbody tr th {\n",
       "        vertical-align: top;\n",
       "    }\n",
       "\n",
       "    .dataframe thead th {\n",
       "        text-align: right;\n",
       "    }\n",
       "</style>\n",
       "<table border=\"1\" class=\"dataframe\">\n",
       "  <thead>\n",
       "    <tr style=\"text-align: right;\">\n",
       "      <th></th>\n",
       "      <th>Apples</th>\n",
       "      <th>Bananas</th>\n",
       "    </tr>\n",
       "  </thead>\n",
       "  <tbody>\n",
       "    <tr>\n",
       "      <th>2017 Sales</th>\n",
       "      <td>35</td>\n",
       "      <td>21</td>\n",
       "    </tr>\n",
       "    <tr>\n",
       "      <th>2018 Sales</th>\n",
       "      <td>41</td>\n",
       "      <td>34</td>\n",
       "    </tr>\n",
       "  </tbody>\n",
       "</table>\n",
       "</div>"
      ],
      "text/plain": [
       "            Apples  Bananas\n",
       "2017 Sales      35       21\n",
       "2018 Sales      41       34"
      ]
     },
     "execution_count": 3,
     "metadata": {},
     "output_type": "execute_result"
    }
   ],
   "source": [
    "fruits_sales = pd.DataFrame({'Apples' : [35, 41],'Bananas' : [21, 34]},index = ['2017 Sales', '2018 Sales'])\n",
    "fruits_sales"
   ]
  },
  {
   "cell_type": "markdown",
   "metadata": {
    "id": "YiatYsIOGZpz"
   },
   "source": [
    "## 3.\n",
    "\n",
    "Create a variable `ingredients` with a Series that looks like:\n",
    "\n",
    "```\n",
    "Flour     4 cups\n",
    "Milk       1 cup\n",
    "Eggs     2 large\n",
    "Spam       1 can\n",
    "Name: Dinner, dtype: object\n",
    "```"
   ]
  },
  {
   "cell_type": "code",
   "execution_count": 4,
   "metadata": {
    "colab": {
     "base_uri": "https://localhost:8080/"
    },
    "id": "UYSRGLpWGZpz",
    "outputId": "15e8a72e-f9d5-4fef-b821-0ff77e1c9bba"
   },
   "outputs": [
    {
     "data": {
      "text/plain": [
       "Flour     4 cups\n",
       "Milk       1 cup\n",
       "Eggs     2 large\n",
       "Spam       1 can\n",
       "Name: Dinner, dtype: object"
      ]
     },
     "execution_count": 4,
     "metadata": {},
     "output_type": "execute_result"
    }
   ],
   "source": [
    "# pd.Series를 이용해 series 생성\n",
    "ingredients = pd.Series(['4 cups', '1 cup', '2 large', '1 can'], index = ['Flour', 'Milk', 'Eggs', 'Spam'], name = 'Dinner')\n",
    "ingredients"
   ]
  },
  {
   "cell_type": "markdown",
   "metadata": {
    "id": "mRY3dwVAGZp0"
   },
   "source": [
    "## 4.\n",
    "\n",
    "Read the following csv dataset of wine reviews into a DataFrame called `reviews` by properly modifying the code below\n",
    "\n",
    "![](https://i.imgur.com/74RCZtU.png)\n",
    "\n",
    "\n"
   ]
  },
  {
   "cell_type": "code",
   "execution_count": 5,
   "metadata": {
    "colab": {
     "base_uri": "https://localhost:8080/"
    },
    "id": "IEFBHhw-NnY7",
    "outputId": "b944387f-7ddf-4dc0-baf4-dea0069e4098"
   },
   "outputs": [
    {
     "name": "stdout",
     "output_type": "stream",
     "text": [
      "Mounted at /content/drive\n"
     ]
    }
   ],
   "source": [
    "# drive mount\n",
    "from google.colab import drive\n",
    "drive.mount('/content/drive')"
   ]
  },
  {
   "cell_type": "code",
   "execution_count": 6,
   "metadata": {
    "colab": {
     "base_uri": "https://localhost:8080/",
     "height": 1000
    },
    "id": "R7ypl2jAGZp0",
    "outputId": "65925b3d-8644-4fbe-ddd2-217447c8bc7c"
   },
   "outputs": [
    {
     "data": {
      "text/html": [
       "<div>\n",
       "<style scoped>\n",
       "    .dataframe tbody tr th:only-of-type {\n",
       "        vertical-align: middle;\n",
       "    }\n",
       "\n",
       "    .dataframe tbody tr th {\n",
       "        vertical-align: top;\n",
       "    }\n",
       "\n",
       "    .dataframe thead th {\n",
       "        text-align: right;\n",
       "    }\n",
       "</style>\n",
       "<table border=\"1\" class=\"dataframe\">\n",
       "  <thead>\n",
       "    <tr style=\"text-align: right;\">\n",
       "      <th></th>\n",
       "      <th>country</th>\n",
       "      <th>description</th>\n",
       "      <th>designation</th>\n",
       "      <th>points</th>\n",
       "      <th>price</th>\n",
       "      <th>province</th>\n",
       "      <th>region_1</th>\n",
       "      <th>region_2</th>\n",
       "      <th>taster_name</th>\n",
       "      <th>taster_twitter_handle</th>\n",
       "      <th>title</th>\n",
       "      <th>variety</th>\n",
       "      <th>winery</th>\n",
       "    </tr>\n",
       "  </thead>\n",
       "  <tbody>\n",
       "    <tr>\n",
       "      <th>0</th>\n",
       "      <td>Italy</td>\n",
       "      <td>Aromas include tropical fruit, broom, brimston...</td>\n",
       "      <td>Vulkà Bianco</td>\n",
       "      <td>87</td>\n",
       "      <td>NaN</td>\n",
       "      <td>Sicily &amp; Sardinia</td>\n",
       "      <td>Etna</td>\n",
       "      <td>NaN</td>\n",
       "      <td>Kerin O’Keefe</td>\n",
       "      <td>@kerinokeefe</td>\n",
       "      <td>Nicosia 2013 Vulkà Bianco  (Etna)</td>\n",
       "      <td>White Blend</td>\n",
       "      <td>Nicosia</td>\n",
       "    </tr>\n",
       "    <tr>\n",
       "      <th>1</th>\n",
       "      <td>Portugal</td>\n",
       "      <td>This is ripe and fruity, a wine that is smooth...</td>\n",
       "      <td>Avidagos</td>\n",
       "      <td>87</td>\n",
       "      <td>15.0</td>\n",
       "      <td>Douro</td>\n",
       "      <td>NaN</td>\n",
       "      <td>NaN</td>\n",
       "      <td>Roger Voss</td>\n",
       "      <td>@vossroger</td>\n",
       "      <td>Quinta dos Avidagos 2011 Avidagos Red (Douro)</td>\n",
       "      <td>Portuguese Red</td>\n",
       "      <td>Quinta dos Avidagos</td>\n",
       "    </tr>\n",
       "    <tr>\n",
       "      <th>2</th>\n",
       "      <td>US</td>\n",
       "      <td>Tart and snappy, the flavors of lime flesh and...</td>\n",
       "      <td>NaN</td>\n",
       "      <td>87</td>\n",
       "      <td>14.0</td>\n",
       "      <td>Oregon</td>\n",
       "      <td>Willamette Valley</td>\n",
       "      <td>Willamette Valley</td>\n",
       "      <td>Paul Gregutt</td>\n",
       "      <td>@paulgwine</td>\n",
       "      <td>Rainstorm 2013 Pinot Gris (Willamette Valley)</td>\n",
       "      <td>Pinot Gris</td>\n",
       "      <td>Rainstorm</td>\n",
       "    </tr>\n",
       "    <tr>\n",
       "      <th>3</th>\n",
       "      <td>US</td>\n",
       "      <td>Pineapple rind, lemon pith and orange blossom ...</td>\n",
       "      <td>Reserve Late Harvest</td>\n",
       "      <td>87</td>\n",
       "      <td>13.0</td>\n",
       "      <td>Michigan</td>\n",
       "      <td>Lake Michigan Shore</td>\n",
       "      <td>NaN</td>\n",
       "      <td>Alexander Peartree</td>\n",
       "      <td>NaN</td>\n",
       "      <td>St. Julian 2013 Reserve Late Harvest Riesling ...</td>\n",
       "      <td>Riesling</td>\n",
       "      <td>St. Julian</td>\n",
       "    </tr>\n",
       "    <tr>\n",
       "      <th>4</th>\n",
       "      <td>US</td>\n",
       "      <td>Much like the regular bottling from 2012, this...</td>\n",
       "      <td>Vintner's Reserve Wild Child Block</td>\n",
       "      <td>87</td>\n",
       "      <td>65.0</td>\n",
       "      <td>Oregon</td>\n",
       "      <td>Willamette Valley</td>\n",
       "      <td>Willamette Valley</td>\n",
       "      <td>Paul Gregutt</td>\n",
       "      <td>@paulgwine</td>\n",
       "      <td>Sweet Cheeks 2012 Vintner's Reserve Wild Child...</td>\n",
       "      <td>Pinot Noir</td>\n",
       "      <td>Sweet Cheeks</td>\n",
       "    </tr>\n",
       "    <tr>\n",
       "      <th>...</th>\n",
       "      <td>...</td>\n",
       "      <td>...</td>\n",
       "      <td>...</td>\n",
       "      <td>...</td>\n",
       "      <td>...</td>\n",
       "      <td>...</td>\n",
       "      <td>...</td>\n",
       "      <td>...</td>\n",
       "      <td>...</td>\n",
       "      <td>...</td>\n",
       "      <td>...</td>\n",
       "      <td>...</td>\n",
       "      <td>...</td>\n",
       "    </tr>\n",
       "    <tr>\n",
       "      <th>129966</th>\n",
       "      <td>Germany</td>\n",
       "      <td>Notes of honeysuckle and cantaloupe sweeten th...</td>\n",
       "      <td>Brauneberger Juffer-Sonnenuhr Spätlese</td>\n",
       "      <td>90</td>\n",
       "      <td>28.0</td>\n",
       "      <td>Mosel</td>\n",
       "      <td>NaN</td>\n",
       "      <td>NaN</td>\n",
       "      <td>Anna Lee C. Iijima</td>\n",
       "      <td>NaN</td>\n",
       "      <td>Dr. H. Thanisch (Erben Müller-Burggraef) 2013 ...</td>\n",
       "      <td>Riesling</td>\n",
       "      <td>Dr. H. Thanisch (Erben Müller-Burggraef)</td>\n",
       "    </tr>\n",
       "    <tr>\n",
       "      <th>129967</th>\n",
       "      <td>US</td>\n",
       "      <td>Citation is given as much as a decade of bottl...</td>\n",
       "      <td>NaN</td>\n",
       "      <td>90</td>\n",
       "      <td>75.0</td>\n",
       "      <td>Oregon</td>\n",
       "      <td>Oregon</td>\n",
       "      <td>Oregon Other</td>\n",
       "      <td>Paul Gregutt</td>\n",
       "      <td>@paulgwine</td>\n",
       "      <td>Citation 2004 Pinot Noir (Oregon)</td>\n",
       "      <td>Pinot Noir</td>\n",
       "      <td>Citation</td>\n",
       "    </tr>\n",
       "    <tr>\n",
       "      <th>129968</th>\n",
       "      <td>France</td>\n",
       "      <td>Well-drained gravel soil gives this wine its c...</td>\n",
       "      <td>Kritt</td>\n",
       "      <td>90</td>\n",
       "      <td>30.0</td>\n",
       "      <td>Alsace</td>\n",
       "      <td>Alsace</td>\n",
       "      <td>NaN</td>\n",
       "      <td>Roger Voss</td>\n",
       "      <td>@vossroger</td>\n",
       "      <td>Domaine Gresser 2013 Kritt Gewurztraminer (Als...</td>\n",
       "      <td>Gewürztraminer</td>\n",
       "      <td>Domaine Gresser</td>\n",
       "    </tr>\n",
       "    <tr>\n",
       "      <th>129969</th>\n",
       "      <td>France</td>\n",
       "      <td>A dry style of Pinot Gris, this is crisp with ...</td>\n",
       "      <td>NaN</td>\n",
       "      <td>90</td>\n",
       "      <td>32.0</td>\n",
       "      <td>Alsace</td>\n",
       "      <td>Alsace</td>\n",
       "      <td>NaN</td>\n",
       "      <td>Roger Voss</td>\n",
       "      <td>@vossroger</td>\n",
       "      <td>Domaine Marcel Deiss 2012 Pinot Gris (Alsace)</td>\n",
       "      <td>Pinot Gris</td>\n",
       "      <td>Domaine Marcel Deiss</td>\n",
       "    </tr>\n",
       "    <tr>\n",
       "      <th>129970</th>\n",
       "      <td>France</td>\n",
       "      <td>Big, rich and off-dry, this is powered by inte...</td>\n",
       "      <td>Lieu-dit Harth Cuvée Caroline</td>\n",
       "      <td>90</td>\n",
       "      <td>21.0</td>\n",
       "      <td>Alsace</td>\n",
       "      <td>Alsace</td>\n",
       "      <td>NaN</td>\n",
       "      <td>Roger Voss</td>\n",
       "      <td>@vossroger</td>\n",
       "      <td>Domaine Schoffit 2012 Lieu-dit Harth Cuvée Car...</td>\n",
       "      <td>Gewürztraminer</td>\n",
       "      <td>Domaine Schoffit</td>\n",
       "    </tr>\n",
       "  </tbody>\n",
       "</table>\n",
       "<p>129971 rows × 13 columns</p>\n",
       "</div>"
      ],
      "text/plain": [
       "         country  ...                                    winery\n",
       "0          Italy  ...                                   Nicosia\n",
       "1       Portugal  ...                       Quinta dos Avidagos\n",
       "2             US  ...                                 Rainstorm\n",
       "3             US  ...                                St. Julian\n",
       "4             US  ...                              Sweet Cheeks\n",
       "...          ...  ...                                       ...\n",
       "129966   Germany  ...  Dr. H. Thanisch (Erben Müller-Burggraef)\n",
       "129967        US  ...                                  Citation\n",
       "129968    France  ...                           Domaine Gresser\n",
       "129969    France  ...                      Domaine Marcel Deiss\n",
       "129970    France  ...                          Domaine Schoffit\n",
       "\n",
       "[129971 rows x 13 columns]"
      ]
     },
     "execution_count": 6,
     "metadata": {},
     "output_type": "execute_result"
    }
   ],
   "source": [
    "# wine review data불러오기\n",
    "reviews = pd.read_csv(\"/content/drive/MyDrive/Class/2021/2021_2/programming/Lecture_Code/Pandas/winemag-data-130k-v2.csv/winemag-data-130k-v2.csv\", index_col=0, header = 0)\n",
    "reviews"
   ]
  },
  {
   "cell_type": "markdown",
   "metadata": {
    "id": "KbOfCkGJb0-r"
   },
   "source": [
    "In the above, remove the rows with not available data and save the data into \"reviews\""
   ]
  },
  {
   "cell_type": "code",
   "execution_count": 7,
   "metadata": {
    "id": "1Y9gfnHjb0xr"
   },
   "outputs": [],
   "source": [
    "# nan 값을 가진 행들 제거해주기\n",
    "reviews = reviews.dropna(axis=0)"
   ]
  },
  {
   "cell_type": "code",
   "execution_count": 8,
   "metadata": {
    "colab": {
     "base_uri": "https://localhost:8080/",
     "height": 1000
    },
    "id": "j84frdCqGZp0",
    "outputId": "c7c89528-0736-49ee-cd16-fc0317c55871"
   },
   "outputs": [
    {
     "data": {
      "text/html": [
       "<div>\n",
       "<style scoped>\n",
       "    .dataframe tbody tr th:only-of-type {\n",
       "        vertical-align: middle;\n",
       "    }\n",
       "\n",
       "    .dataframe tbody tr th {\n",
       "        vertical-align: top;\n",
       "    }\n",
       "\n",
       "    .dataframe thead th {\n",
       "        text-align: right;\n",
       "    }\n",
       "</style>\n",
       "<table border=\"1\" class=\"dataframe\">\n",
       "  <thead>\n",
       "    <tr style=\"text-align: right;\">\n",
       "      <th></th>\n",
       "      <th>country</th>\n",
       "      <th>description</th>\n",
       "      <th>designation</th>\n",
       "      <th>points</th>\n",
       "      <th>price</th>\n",
       "      <th>province</th>\n",
       "      <th>region_1</th>\n",
       "      <th>region_2</th>\n",
       "      <th>taster_name</th>\n",
       "      <th>taster_twitter_handle</th>\n",
       "      <th>title</th>\n",
       "      <th>variety</th>\n",
       "      <th>winery</th>\n",
       "    </tr>\n",
       "  </thead>\n",
       "  <tbody>\n",
       "    <tr>\n",
       "      <th>0</th>\n",
       "      <td>US</td>\n",
       "      <td>Much like the regular bottling from 2012, this...</td>\n",
       "      <td>Vintner's Reserve Wild Child Block</td>\n",
       "      <td>87</td>\n",
       "      <td>65.0</td>\n",
       "      <td>Oregon</td>\n",
       "      <td>Willamette Valley</td>\n",
       "      <td>Willamette Valley</td>\n",
       "      <td>Paul Gregutt</td>\n",
       "      <td>@paulgwine</td>\n",
       "      <td>Sweet Cheeks 2012 Vintner's Reserve Wild Child...</td>\n",
       "      <td>Pinot Noir</td>\n",
       "      <td>Sweet Cheeks</td>\n",
       "    </tr>\n",
       "    <tr>\n",
       "      <th>1</th>\n",
       "      <td>US</td>\n",
       "      <td>Soft, supple plum envelopes an oaky structure ...</td>\n",
       "      <td>Mountain Cuvée</td>\n",
       "      <td>87</td>\n",
       "      <td>19.0</td>\n",
       "      <td>California</td>\n",
       "      <td>Napa Valley</td>\n",
       "      <td>Napa</td>\n",
       "      <td>Virginie Boone</td>\n",
       "      <td>@vboone</td>\n",
       "      <td>Kirkland Signature 2011 Mountain Cuvée Caberne...</td>\n",
       "      <td>Cabernet Sauvignon</td>\n",
       "      <td>Kirkland Signature</td>\n",
       "    </tr>\n",
       "    <tr>\n",
       "      <th>2</th>\n",
       "      <td>US</td>\n",
       "      <td>This wine from the Geneseo district offers aro...</td>\n",
       "      <td>Signature Selection</td>\n",
       "      <td>87</td>\n",
       "      <td>22.0</td>\n",
       "      <td>California</td>\n",
       "      <td>Paso Robles</td>\n",
       "      <td>Central Coast</td>\n",
       "      <td>Matt Kettmann</td>\n",
       "      <td>@mattkettmann</td>\n",
       "      <td>Bianchi 2011 Signature Selection Merlot (Paso ...</td>\n",
       "      <td>Merlot</td>\n",
       "      <td>Bianchi</td>\n",
       "    </tr>\n",
       "    <tr>\n",
       "      <th>3</th>\n",
       "      <td>US</td>\n",
       "      <td>Oak and earth intermingle around robust aromas...</td>\n",
       "      <td>King Ridge Vineyard</td>\n",
       "      <td>87</td>\n",
       "      <td>69.0</td>\n",
       "      <td>California</td>\n",
       "      <td>Sonoma Coast</td>\n",
       "      <td>Sonoma</td>\n",
       "      <td>Virginie Boone</td>\n",
       "      <td>@vboone</td>\n",
       "      <td>Castello di Amorosa 2011 King Ridge Vineyard P...</td>\n",
       "      <td>Pinot Noir</td>\n",
       "      <td>Castello di Amorosa</td>\n",
       "    </tr>\n",
       "    <tr>\n",
       "      <th>4</th>\n",
       "      <td>US</td>\n",
       "      <td>As with many of the Erath 2010 vineyard design...</td>\n",
       "      <td>Hyland</td>\n",
       "      <td>86</td>\n",
       "      <td>50.0</td>\n",
       "      <td>Oregon</td>\n",
       "      <td>McMinnville</td>\n",
       "      <td>Willamette Valley</td>\n",
       "      <td>Paul Gregutt</td>\n",
       "      <td>@paulgwine</td>\n",
       "      <td>Erath 2010 Hyland Pinot Noir (McMinnville)</td>\n",
       "      <td>Pinot Noir</td>\n",
       "      <td>Erath</td>\n",
       "    </tr>\n",
       "    <tr>\n",
       "      <th>...</th>\n",
       "      <td>...</td>\n",
       "      <td>...</td>\n",
       "      <td>...</td>\n",
       "      <td>...</td>\n",
       "      <td>...</td>\n",
       "      <td>...</td>\n",
       "      <td>...</td>\n",
       "      <td>...</td>\n",
       "      <td>...</td>\n",
       "      <td>...</td>\n",
       "      <td>...</td>\n",
       "      <td>...</td>\n",
       "      <td>...</td>\n",
       "    </tr>\n",
       "    <tr>\n",
       "      <th>22382</th>\n",
       "      <td>US</td>\n",
       "      <td>This ripe, rich, almost decadently thick wine ...</td>\n",
       "      <td>Reserve</td>\n",
       "      <td>91</td>\n",
       "      <td>105.0</td>\n",
       "      <td>Washington</td>\n",
       "      <td>Walla Walla Valley (WA)</td>\n",
       "      <td>Columbia Valley</td>\n",
       "      <td>Paul Gregutt</td>\n",
       "      <td>@paulgwine</td>\n",
       "      <td>Nicholas Cole Cellars 2004 Reserve Red (Walla ...</td>\n",
       "      <td>Red Blend</td>\n",
       "      <td>Nicholas Cole Cellars</td>\n",
       "    </tr>\n",
       "    <tr>\n",
       "      <th>22383</th>\n",
       "      <td>US</td>\n",
       "      <td>This pure Syrah from Reininger's estate vineya...</td>\n",
       "      <td>Ash Hollow Vineyard</td>\n",
       "      <td>91</td>\n",
       "      <td>41.0</td>\n",
       "      <td>Washington</td>\n",
       "      <td>Walla Walla Valley (WA)</td>\n",
       "      <td>Columbia Valley</td>\n",
       "      <td>Paul Gregutt</td>\n",
       "      <td>@paulgwine</td>\n",
       "      <td>Reininger 2005 Ash Hollow Vineyard Syrah (Wall...</td>\n",
       "      <td>Syrah</td>\n",
       "      <td>Reininger</td>\n",
       "    </tr>\n",
       "    <tr>\n",
       "      <th>22384</th>\n",
       "      <td>US</td>\n",
       "      <td>Hailing from one of the more popular vineyards...</td>\n",
       "      <td>Jurassic Park Vineyard Old Vines</td>\n",
       "      <td>90</td>\n",
       "      <td>20.0</td>\n",
       "      <td>California</td>\n",
       "      <td>Santa Ynez Valley</td>\n",
       "      <td>Central Coast</td>\n",
       "      <td>Matt Kettmann</td>\n",
       "      <td>@mattkettmann</td>\n",
       "      <td>Birichino 2013 Jurassic Park Vineyard Old Vine...</td>\n",
       "      <td>Chenin Blanc</td>\n",
       "      <td>Birichino</td>\n",
       "    </tr>\n",
       "    <tr>\n",
       "      <th>22385</th>\n",
       "      <td>US</td>\n",
       "      <td>There's no bones about the use of oak in this ...</td>\n",
       "      <td>Barrel Fermented</td>\n",
       "      <td>90</td>\n",
       "      <td>35.0</td>\n",
       "      <td>California</td>\n",
       "      <td>Napa Valley</td>\n",
       "      <td>Napa</td>\n",
       "      <td>Virginie Boone</td>\n",
       "      <td>@vboone</td>\n",
       "      <td>Flora Springs 2013 Barrel Fermented Chardonnay...</td>\n",
       "      <td>Chardonnay</td>\n",
       "      <td>Flora Springs</td>\n",
       "    </tr>\n",
       "    <tr>\n",
       "      <th>22386</th>\n",
       "      <td>US</td>\n",
       "      <td>This opens with herbaceous dollops of thyme an...</td>\n",
       "      <td>Blocks 7 &amp; 22</td>\n",
       "      <td>90</td>\n",
       "      <td>35.0</td>\n",
       "      <td>California</td>\n",
       "      <td>Napa Valley</td>\n",
       "      <td>Napa</td>\n",
       "      <td>Virginie Boone</td>\n",
       "      <td>@vboone</td>\n",
       "      <td>Hendry 2012 Blocks 7 &amp; 22 Zinfandel (Napa Valley)</td>\n",
       "      <td>Zinfandel</td>\n",
       "      <td>Hendry</td>\n",
       "    </tr>\n",
       "  </tbody>\n",
       "</table>\n",
       "<p>22387 rows × 13 columns</p>\n",
       "</div>"
      ],
      "text/plain": [
       "      country  ...                 winery\n",
       "0          US  ...           Sweet Cheeks\n",
       "1          US  ...     Kirkland Signature\n",
       "2          US  ...                Bianchi\n",
       "3          US  ...    Castello di Amorosa\n",
       "4          US  ...                  Erath\n",
       "...       ...  ...                    ...\n",
       "22382      US  ...  Nicholas Cole Cellars\n",
       "22383      US  ...              Reininger\n",
       "22384      US  ...              Birichino\n",
       "22385      US  ...          Flora Springs\n",
       "22386      US  ...                 Hendry\n",
       "\n",
       "[22387 rows x 13 columns]"
      ]
     },
     "execution_count": 8,
     "metadata": {},
     "output_type": "execute_result"
    }
   ],
   "source": [
    "# reset_index를 이용해서 index를 재정렬해주기\n",
    "reviews = reviews.reset_index(drop=True)\n",
    "reviews"
   ]
  },
  {
   "cell_type": "markdown",
   "metadata": {
    "id": "HKvozWFcGZp0"
   },
   "source": [
    "## 5.\n",
    "\n",
    "Run the cell below to create and display a DataFrame called `animals`:"
   ]
  },
  {
   "cell_type": "code",
   "execution_count": 9,
   "metadata": {
    "colab": {
     "base_uri": "https://localhost:8080/",
     "height": 112
    },
    "id": "zY7iKfhKGZp0",
    "outputId": "a1223c63-02b4-450b-d04a-b8381f32e0ac"
   },
   "outputs": [
    {
     "data": {
      "text/html": [
       "<div>\n",
       "<style scoped>\n",
       "    .dataframe tbody tr th:only-of-type {\n",
       "        vertical-align: middle;\n",
       "    }\n",
       "\n",
       "    .dataframe tbody tr th {\n",
       "        vertical-align: top;\n",
       "    }\n",
       "\n",
       "    .dataframe thead th {\n",
       "        text-align: right;\n",
       "    }\n",
       "</style>\n",
       "<table border=\"1\" class=\"dataframe\">\n",
       "  <thead>\n",
       "    <tr style=\"text-align: right;\">\n",
       "      <th></th>\n",
       "      <th>Cows</th>\n",
       "      <th>Goats</th>\n",
       "    </tr>\n",
       "  </thead>\n",
       "  <tbody>\n",
       "    <tr>\n",
       "      <th>Year 1</th>\n",
       "      <td>12</td>\n",
       "      <td>22</td>\n",
       "    </tr>\n",
       "    <tr>\n",
       "      <th>Year 2</th>\n",
       "      <td>20</td>\n",
       "      <td>19</td>\n",
       "    </tr>\n",
       "  </tbody>\n",
       "</table>\n",
       "</div>"
      ],
      "text/plain": [
       "        Cows  Goats\n",
       "Year 1    12     22\n",
       "Year 2    20     19"
      ]
     },
     "execution_count": 9,
     "metadata": {},
     "output_type": "execute_result"
    }
   ],
   "source": [
    "animals = pd.DataFrame({'Cows': [12, 20], 'Goats': [22, 19]}, index=['Year 1', 'Year 2'])\n",
    "animals"
   ]
  },
  {
   "cell_type": "markdown",
   "metadata": {
    "id": "n41dnX9aGZp1"
   },
   "source": [
    "In the cell below, write code to save this DataFrame to disk as a csv file with the name `cows_and_goats.csv`, and check it with EXCEL."
   ]
  },
  {
   "cell_type": "code",
   "execution_count": 10,
   "metadata": {
    "id": "iyei04emGZp1"
   },
   "outputs": [],
   "source": [
    "# Your code goes here\n",
    "\n",
    "animals.to_csv('/content/drive/MyDrive/Class/2021/2021_2/programming/Lecture_Code/Pandas/cows_and_goats.csv')"
   ]
  },
  {
   "cell_type": "markdown",
   "metadata": {
    "id": "OF06xhquR8fJ"
   },
   "source": [
    "생성된 파일을 excel을 이용해 확인한 결과"
   ]
  },
  {
   "cell_type": "markdown",
   "metadata": {
    "id": "bJz9gs0yDBf_"
   },
   "source": [
    "![image.png](data:image/png;base64,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)"
   ]
  },
  {
   "cell_type": "markdown",
   "metadata": {
    "id": "yTn2qc8sbaSR"
   },
   "source": [
    "# From now on, we will use \"reviews\" data."
   ]
  },
  {
   "cell_type": "markdown",
   "metadata": {
    "id": "Dq7jsrroMeJD"
   },
   "source": [
    "## 6.\n",
    "\n",
    "Select the `description` column from `reviews` and assign the result to the variable `desc`."
   ]
  },
  {
   "cell_type": "markdown",
   "metadata": {
    "id": "6X92XQbNMeJF"
   },
   "source": [
    "Follow-up question: what type of object is `desc`? If you're not sure, you can check by calling Python's `type` function: `type(desc)`."
   ]
  },
  {
   "cell_type": "code",
   "execution_count": 11,
   "metadata": {
    "colab": {
     "base_uri": "https://localhost:8080/"
    },
    "id": "HegH0mepMeJF",
    "outputId": "28dc061e-5173-42a6-ce34-c161ca33278c"
   },
   "outputs": [
    {
     "data": {
      "text/plain": [
       "pandas.core.series.Series"
      ]
     },
     "execution_count": 11,
     "metadata": {},
     "output_type": "execute_result"
    }
   ],
   "source": [
    "# type function을 이용해 type 확인\n",
    "desc = reviews['description']\n",
    "type(desc)"
   ]
  },
  {
   "cell_type": "markdown",
   "metadata": {
    "id": "gLDSrfzUYO0v"
   },
   "source": [
    "so, the type of desc is Series"
   ]
  },
  {
   "cell_type": "markdown",
   "metadata": {
    "id": "nn7esZT2MeJF"
   },
   "source": [
    "## 7.\n",
    "\n",
    "Select the first value from the description column of `reviews`, assigning it to variable `first_description`."
   ]
  },
  {
   "cell_type": "code",
   "execution_count": 12,
   "metadata": {
    "colab": {
     "base_uri": "https://localhost:8080/",
     "height": 55
    },
    "id": "BksgeS2eMeJG",
    "outputId": "4bd10e00-7edd-4eb6-94ee-c2d5fd08605f"
   },
   "outputs": [
    {
     "data": {
      "application/vnd.google.colaboratory.intrinsic+json": {
       "type": "string"
      },
      "text/plain": [
       "\"Much like the regular bottling from 2012, this comes across as rather rough and tannic, with rustic, earthy, herbal characteristics. Nonetheless, if you think of it as a pleasantly unfussy country wine, it's a good companion to a hearty winter stew.\""
      ]
     },
     "execution_count": 12,
     "metadata": {},
     "output_type": "execute_result"
    }
   ],
   "source": [
    "# column을 선택후 첫번째 원소를 [0]을 이용해 select해줌\n",
    "first_description = reviews['description'][0]\n",
    "first_description"
   ]
  },
  {
   "cell_type": "markdown",
   "metadata": {
    "id": "b6iGXA1TMeJH"
   },
   "source": [
    "## 8. \n",
    "\n",
    "Select the first row of data (the first record) from `reviews`, assigning it to the variable `first_row`."
   ]
  },
  {
   "cell_type": "code",
   "execution_count": 13,
   "metadata": {
    "colab": {
     "base_uri": "https://localhost:8080/"
    },
    "id": "un8C4yV3coT2",
    "outputId": "03b43140-d051-4403-b54c-0c327cc56330"
   },
   "outputs": [
    {
     "data": {
      "text/plain": [
       "country                                                                 US\n",
       "description              Much like the regular bottling from 2012, this...\n",
       "designation                             Vintner's Reserve Wild Child Block\n",
       "points                                                                  87\n",
       "price                                                                   65\n",
       "province                                                            Oregon\n",
       "region_1                                                 Willamette Valley\n",
       "region_2                                                 Willamette Valley\n",
       "taster_name                                                   Paul Gregutt\n",
       "taster_twitter_handle                                          @paulgwine \n",
       "title                    Sweet Cheeks 2012 Vintner's Reserve Wild Child...\n",
       "variety                                                         Pinot Noir\n",
       "winery                                                        Sweet Cheeks\n",
       "Name: 0, dtype: object"
      ]
     },
     "execution_count": 13,
     "metadata": {},
     "output_type": "execute_result"
    }
   ],
   "source": [
    "# iloc을 이용해 first low를 select\n",
    "first_row = reviews.iloc[0]\n",
    "first_row"
   ]
  },
  {
   "cell_type": "markdown",
   "metadata": {
    "id": "LKCl-_rpMeJH"
   },
   "source": [
    "## 9.\n",
    "\n",
    "Select the first 10 values from the `description` column in `reviews`, assigning the result to variable `first_descriptions`.\n",
    "\n",
    "Hint: format your output as a pandas Series."
   ]
  },
  {
   "cell_type": "code",
   "execution_count": 14,
   "metadata": {
    "colab": {
     "base_uri": "https://localhost:8080/"
    },
    "id": "qte7Mqm5MeJI",
    "outputId": "2d07ea20-49e1-4ffe-b89b-892e10817420"
   },
   "outputs": [
    {
     "data": {
      "text/plain": [
       "0    Much like the regular bottling from 2012, this...\n",
       "1    Soft, supple plum envelopes an oaky structure ...\n",
       "2    This wine from the Geneseo district offers aro...\n",
       "3    Oak and earth intermingle around robust aromas...\n",
       "4    As with many of the Erath 2010 vineyard design...\n",
       "5    Syrupy and dense, this wine is jammy in plum a...\n",
       "6    The aromas are brooding, with notes of barrel ...\n",
       "7    There are intriguing touches to the nose of th...\n",
       "8    A blend of Merlot and Cabernet Franc, this win...\n",
       "9    Big oak defines this robustly dense and extrac...\n",
       "Name: description, dtype: object"
      ]
     },
     "execution_count": 14,
     "metadata": {},
     "output_type": "execute_result"
    }
   ],
   "source": [
    "# iloc을 이용해 slicing해서 10개의 value를 select\n",
    "first_descriptions = reviews.description.iloc[0:10]\n",
    "first_descriptions"
   ]
  },
  {
   "cell_type": "markdown",
   "metadata": {
    "id": "_hl8M1GRMeJI"
   },
   "source": [
    "## 10.\n",
    "\n",
    "Select the records with index labels `4`, `25`, and `35`, assigning the result to the variable `sample_reviews`.\n",
    "\n",
    "In other words, generate the something like following DataFrame:\n",
    "\n",
    "![](https://i.imgur.com/sHZvI1O.png)"
   ]
  },
  {
   "cell_type": "code",
   "execution_count": 15,
   "metadata": {
    "colab": {
     "base_uri": "https://localhost:8080/",
     "height": 371
    },
    "id": "0gnLlY_wMeJI",
    "outputId": "fb832765-4b5f-4114-f89e-f2501425cfc1"
   },
   "outputs": [
    {
     "data": {
      "text/html": [
       "<div>\n",
       "<style scoped>\n",
       "    .dataframe tbody tr th:only-of-type {\n",
       "        vertical-align: middle;\n",
       "    }\n",
       "\n",
       "    .dataframe tbody tr th {\n",
       "        vertical-align: top;\n",
       "    }\n",
       "\n",
       "    .dataframe thead th {\n",
       "        text-align: right;\n",
       "    }\n",
       "</style>\n",
       "<table border=\"1\" class=\"dataframe\">\n",
       "  <thead>\n",
       "    <tr style=\"text-align: right;\">\n",
       "      <th></th>\n",
       "      <th>country</th>\n",
       "      <th>description</th>\n",
       "      <th>designation</th>\n",
       "      <th>points</th>\n",
       "      <th>price</th>\n",
       "      <th>province</th>\n",
       "      <th>region_1</th>\n",
       "      <th>region_2</th>\n",
       "      <th>taster_name</th>\n",
       "      <th>taster_twitter_handle</th>\n",
       "      <th>title</th>\n",
       "      <th>variety</th>\n",
       "      <th>winery</th>\n",
       "    </tr>\n",
       "  </thead>\n",
       "  <tbody>\n",
       "    <tr>\n",
       "      <th>4</th>\n",
       "      <td>US</td>\n",
       "      <td>As with many of the Erath 2010 vineyard design...</td>\n",
       "      <td>Hyland</td>\n",
       "      <td>86</td>\n",
       "      <td>50.0</td>\n",
       "      <td>Oregon</td>\n",
       "      <td>McMinnville</td>\n",
       "      <td>Willamette Valley</td>\n",
       "      <td>Paul Gregutt</td>\n",
       "      <td>@paulgwine</td>\n",
       "      <td>Erath 2010 Hyland Pinot Noir (McMinnville)</td>\n",
       "      <td>Pinot Noir</td>\n",
       "      <td>Erath</td>\n",
       "    </tr>\n",
       "    <tr>\n",
       "      <th>25</th>\n",
       "      <td>US</td>\n",
       "      <td>Cooked cranberry is spiced with anise, pepperc...</td>\n",
       "      <td>Guidotti Vineyard</td>\n",
       "      <td>91</td>\n",
       "      <td>64.0</td>\n",
       "      <td>California</td>\n",
       "      <td>Santa Lucia Highlands</td>\n",
       "      <td>Central Coast</td>\n",
       "      <td>Matt Kettmann</td>\n",
       "      <td>@mattkettmann</td>\n",
       "      <td>Testarossa 2013 Guidotti Vineyard Pinot Noir (...</td>\n",
       "      <td>Pinot Noir</td>\n",
       "      <td>Testarossa</td>\n",
       "    </tr>\n",
       "    <tr>\n",
       "      <th>35</th>\n",
       "      <td>US</td>\n",
       "      <td>This wine is put together from multiple vineya...</td>\n",
       "      <td>Dutton Ranch</td>\n",
       "      <td>91</td>\n",
       "      <td>44.0</td>\n",
       "      <td>California</td>\n",
       "      <td>Russian River Valley</td>\n",
       "      <td>Sonoma</td>\n",
       "      <td>Virginie Boone</td>\n",
       "      <td>@vboone</td>\n",
       "      <td>Dutton-Goldfield 2014 Dutton Ranch Pinot Noir ...</td>\n",
       "      <td>Pinot Noir</td>\n",
       "      <td>Dutton-Goldfield</td>\n",
       "    </tr>\n",
       "  </tbody>\n",
       "</table>\n",
       "</div>"
      ],
      "text/plain": [
       "   country  ...            winery\n",
       "4       US  ...             Erath\n",
       "25      US  ...        Testarossa\n",
       "35      US  ...  Dutton-Goldfield\n",
       "\n",
       "[3 rows x 13 columns]"
      ]
     },
     "execution_count": 15,
     "metadata": {},
     "output_type": "execute_result"
    }
   ],
   "source": [
    "# iloc을 이용해 원하는 특정 index 선택\n",
    "sample_reviews = reviews.iloc[[4,25,35],]\n",
    "sample_reviews"
   ]
  },
  {
   "cell_type": "markdown",
   "metadata": {
    "id": "BoFTjcfeMeJJ"
   },
   "source": [
    "## 11.\n",
    "\n",
    "Create a variable `df` containing the `country`, `province`, `region_1`, and `region_2` columns of the records with the index labels `4`, `25`, and `35`. In other words, generate something like the following DataFrame:\n",
    "\n",
    "![](https://i.imgur.com/FUCGiKP.png)"
   ]
  },
  {
   "cell_type": "code",
   "execution_count": 16,
   "metadata": {
    "colab": {
     "base_uri": "https://localhost:8080/",
     "height": 143
    },
    "id": "1X65mPwSMeJJ",
    "outputId": "50696a64-39cc-4b61-9fc2-96f674cd3139"
   },
   "outputs": [
    {
     "data": {
      "text/html": [
       "<div>\n",
       "<style scoped>\n",
       "    .dataframe tbody tr th:only-of-type {\n",
       "        vertical-align: middle;\n",
       "    }\n",
       "\n",
       "    .dataframe tbody tr th {\n",
       "        vertical-align: top;\n",
       "    }\n",
       "\n",
       "    .dataframe thead th {\n",
       "        text-align: right;\n",
       "    }\n",
       "</style>\n",
       "<table border=\"1\" class=\"dataframe\">\n",
       "  <thead>\n",
       "    <tr style=\"text-align: right;\">\n",
       "      <th></th>\n",
       "      <th>country</th>\n",
       "      <th>province</th>\n",
       "      <th>region_1</th>\n",
       "      <th>region_2</th>\n",
       "    </tr>\n",
       "  </thead>\n",
       "  <tbody>\n",
       "    <tr>\n",
       "      <th>4</th>\n",
       "      <td>US</td>\n",
       "      <td>Oregon</td>\n",
       "      <td>McMinnville</td>\n",
       "      <td>Willamette Valley</td>\n",
       "    </tr>\n",
       "    <tr>\n",
       "      <th>25</th>\n",
       "      <td>US</td>\n",
       "      <td>California</td>\n",
       "      <td>Santa Lucia Highlands</td>\n",
       "      <td>Central Coast</td>\n",
       "    </tr>\n",
       "    <tr>\n",
       "      <th>35</th>\n",
       "      <td>US</td>\n",
       "      <td>California</td>\n",
       "      <td>Russian River Valley</td>\n",
       "      <td>Sonoma</td>\n",
       "    </tr>\n",
       "  </tbody>\n",
       "</table>\n",
       "</div>"
      ],
      "text/plain": [
       "   country    province               region_1           region_2\n",
       "4       US      Oregon            McMinnville  Willamette Valley\n",
       "25      US  California  Santa Lucia Highlands      Central Coast\n",
       "35      US  California   Russian River Valley             Sonoma"
      ]
     },
     "execution_count": 16,
     "metadata": {},
     "output_type": "execute_result"
    }
   ],
   "source": [
    "# loc을 이용해 특정 행과 열 선택\n",
    "df = reviews.loc[[4,25,35], ['country', 'province', 'region_1', 'region_2']]\n",
    "df"
   ]
  },
  {
   "cell_type": "markdown",
   "metadata": {
    "id": "BkFhA_enMeJJ"
   },
   "source": [
    "## 12.\n",
    "\n",
    "Create a variable `df` containing the `country` and `variety` columns of the first 100 records. \n",
    "\n",
    "Hint: you may use `loc` or `iloc`. When working on the answer this question and the several of the ones that follow, keep the following \"gotcha\" described in the tutorial:\n",
    "\n",
    "> `iloc` uses the Python stdlib indexing scheme, where the first element of the range is included and the last one excluded. \n",
    "`loc`, meanwhile, indexes inclusively. \n",
    "\n",
    "> This is particularly confusing when the DataFrame index is a simple numerical list, e.g. `0,...,1000`. In this case `df.iloc[0:1000]` will return 1000 entries, while `df.loc[0:1000]` return 1001 of them!  "
   ]
  },
  {
   "cell_type": "code",
   "execution_count": 17,
   "metadata": {
    "id": "9V2CQM9fMeJJ"
   },
   "outputs": [],
   "source": [
    "#loc 을 이용하는데 이때 행에서 :99를 사용해 100개를 선택해줌\n",
    "df = reviews.loc[:99, ['country', 'variety']]"
   ]
  },
  {
   "cell_type": "markdown",
   "metadata": {
    "id": "8zWq8t-uMeJK"
   },
   "source": [
    "## 13.\n",
    "\n",
    "Create a DataFrame `oregon_wines` containing reviews of wines made in `Oregon`. Hint: `reviews.province` equals what?"
   ]
  },
  {
   "cell_type": "code",
   "execution_count": 18,
   "metadata": {
    "colab": {
     "base_uri": "https://localhost:8080/",
     "height": 1000
    },
    "id": "eVa9W67HMeJK",
    "outputId": "1f8147de-38a0-437d-9490-b62dca7b4de1"
   },
   "outputs": [
    {
     "data": {
      "text/html": [
       "<div>\n",
       "<style scoped>\n",
       "    .dataframe tbody tr th:only-of-type {\n",
       "        vertical-align: middle;\n",
       "    }\n",
       "\n",
       "    .dataframe tbody tr th {\n",
       "        vertical-align: top;\n",
       "    }\n",
       "\n",
       "    .dataframe thead th {\n",
       "        text-align: right;\n",
       "    }\n",
       "</style>\n",
       "<table border=\"1\" class=\"dataframe\">\n",
       "  <thead>\n",
       "    <tr style=\"text-align: right;\">\n",
       "      <th></th>\n",
       "      <th>country</th>\n",
       "      <th>description</th>\n",
       "      <th>designation</th>\n",
       "      <th>points</th>\n",
       "      <th>price</th>\n",
       "      <th>province</th>\n",
       "      <th>region_1</th>\n",
       "      <th>region_2</th>\n",
       "      <th>taster_name</th>\n",
       "      <th>taster_twitter_handle</th>\n",
       "      <th>title</th>\n",
       "      <th>variety</th>\n",
       "      <th>winery</th>\n",
       "    </tr>\n",
       "  </thead>\n",
       "  <tbody>\n",
       "    <tr>\n",
       "      <th>0</th>\n",
       "      <td>US</td>\n",
       "      <td>Much like the regular bottling from 2012, this...</td>\n",
       "      <td>Vintner's Reserve Wild Child Block</td>\n",
       "      <td>87</td>\n",
       "      <td>65.0</td>\n",
       "      <td>Oregon</td>\n",
       "      <td>Willamette Valley</td>\n",
       "      <td>Willamette Valley</td>\n",
       "      <td>Paul Gregutt</td>\n",
       "      <td>@paulgwine</td>\n",
       "      <td>Sweet Cheeks 2012 Vintner's Reserve Wild Child...</td>\n",
       "      <td>Pinot Noir</td>\n",
       "      <td>Sweet Cheeks</td>\n",
       "    </tr>\n",
       "    <tr>\n",
       "      <th>4</th>\n",
       "      <td>US</td>\n",
       "      <td>As with many of the Erath 2010 vineyard design...</td>\n",
       "      <td>Hyland</td>\n",
       "      <td>86</td>\n",
       "      <td>50.0</td>\n",
       "      <td>Oregon</td>\n",
       "      <td>McMinnville</td>\n",
       "      <td>Willamette Valley</td>\n",
       "      <td>Paul Gregutt</td>\n",
       "      <td>@paulgwine</td>\n",
       "      <td>Erath 2010 Hyland Pinot Noir (McMinnville)</td>\n",
       "      <td>Pinot Noir</td>\n",
       "      <td>Erath</td>\n",
       "    </tr>\n",
       "    <tr>\n",
       "      <th>13</th>\n",
       "      <td>US</td>\n",
       "      <td>Some rosés are made simply by bleeding the jui...</td>\n",
       "      <td>Rosé of</td>\n",
       "      <td>86</td>\n",
       "      <td>25.0</td>\n",
       "      <td>Oregon</td>\n",
       "      <td>Eola-Amity Hills</td>\n",
       "      <td>Willamette Valley</td>\n",
       "      <td>Paul Gregutt</td>\n",
       "      <td>@paulgwine</td>\n",
       "      <td>Z'IVO 2015 Rosé of Pinot Noir (Eola-Amity Hills)</td>\n",
       "      <td>Pinot Noir</td>\n",
       "      <td>Z'IVO</td>\n",
       "    </tr>\n",
       "    <tr>\n",
       "      <th>43</th>\n",
       "      <td>US</td>\n",
       "      <td>There is an odd, piercing edge to the aromas, ...</td>\n",
       "      <td>Reserve</td>\n",
       "      <td>85</td>\n",
       "      <td>28.0</td>\n",
       "      <td>Oregon</td>\n",
       "      <td>Willamette Valley</td>\n",
       "      <td>Willamette Valley</td>\n",
       "      <td>Paul Gregutt</td>\n",
       "      <td>@paulgwine</td>\n",
       "      <td>Silvan Ridge 2006 Reserve Pinot Noir (Willamet...</td>\n",
       "      <td>Pinot Noir</td>\n",
       "      <td>Silvan Ridge</td>\n",
       "    </tr>\n",
       "    <tr>\n",
       "      <th>44</th>\n",
       "      <td>US</td>\n",
       "      <td>This seems as if it was assembled from lesser ...</td>\n",
       "      <td>Estate Single Vineyard</td>\n",
       "      <td>85</td>\n",
       "      <td>45.0</td>\n",
       "      <td>Oregon</td>\n",
       "      <td>Willamette Valley</td>\n",
       "      <td>Willamette Valley</td>\n",
       "      <td>Paul Gregutt</td>\n",
       "      <td>@paulgwine</td>\n",
       "      <td>Amity 2006 Estate Single Vineyard Pinot Noir (...</td>\n",
       "      <td>Pinot Noir</td>\n",
       "      <td>Amity</td>\n",
       "    </tr>\n",
       "    <tr>\n",
       "      <th>...</th>\n",
       "      <td>...</td>\n",
       "      <td>...</td>\n",
       "      <td>...</td>\n",
       "      <td>...</td>\n",
       "      <td>...</td>\n",
       "      <td>...</td>\n",
       "      <td>...</td>\n",
       "      <td>...</td>\n",
       "      <td>...</td>\n",
       "      <td>...</td>\n",
       "      <td>...</td>\n",
       "      <td>...</td>\n",
       "      <td>...</td>\n",
       "    </tr>\n",
       "    <tr>\n",
       "      <th>22296</th>\n",
       "      <td>US</td>\n",
       "      <td>Elizabeth's Reserve is comprised of Adelsheim'...</td>\n",
       "      <td>Elizabeth's Reserve</td>\n",
       "      <td>89</td>\n",
       "      <td>55.0</td>\n",
       "      <td>Oregon</td>\n",
       "      <td>Willamette Valley</td>\n",
       "      <td>Willamette Valley</td>\n",
       "      <td>Paul Gregutt</td>\n",
       "      <td>@paulgwine</td>\n",
       "      <td>Adelsheim 2011 Elizabeth's Reserve Pinot Noir ...</td>\n",
       "      <td>Pinot Noir</td>\n",
       "      <td>Adelsheim</td>\n",
       "    </tr>\n",
       "    <tr>\n",
       "      <th>22331</th>\n",
       "      <td>US</td>\n",
       "      <td>Though labeled simply “Oregon,” this is 100% H...</td>\n",
       "      <td>Melodia</td>\n",
       "      <td>93</td>\n",
       "      <td>34.0</td>\n",
       "      <td>Oregon</td>\n",
       "      <td>Oregon</td>\n",
       "      <td>Oregon Other</td>\n",
       "      <td>Paul Gregutt</td>\n",
       "      <td>@paulgwine</td>\n",
       "      <td>DanCin 2014 Melodia Pinot Noir (Oregon)</td>\n",
       "      <td>Pinot Noir</td>\n",
       "      <td>DanCin</td>\n",
       "    </tr>\n",
       "    <tr>\n",
       "      <th>22335</th>\n",
       "      <td>US</td>\n",
       "      <td>This biodynamically farmed vineyard is often f...</td>\n",
       "      <td>Momtazi Vineyard</td>\n",
       "      <td>93</td>\n",
       "      <td>36.0</td>\n",
       "      <td>Oregon</td>\n",
       "      <td>McMinnville</td>\n",
       "      <td>Willamette Valley</td>\n",
       "      <td>Paul Gregutt</td>\n",
       "      <td>@paulgwine</td>\n",
       "      <td>St. Innocent 2014 Momtazi Vineyard Pinot Noir ...</td>\n",
       "      <td>Pinot Noir</td>\n",
       "      <td>St. Innocent</td>\n",
       "    </tr>\n",
       "    <tr>\n",
       "      <th>22348</th>\n",
       "      <td>US</td>\n",
       "      <td>The Nicholas reserve sees one-third new French...</td>\n",
       "      <td>Reserve Nicholas Vineyard</td>\n",
       "      <td>90</td>\n",
       "      <td>50.0</td>\n",
       "      <td>Oregon</td>\n",
       "      <td>Chehalem Mountains</td>\n",
       "      <td>Willamette Valley</td>\n",
       "      <td>Paul Gregutt</td>\n",
       "      <td>@paulgwine</td>\n",
       "      <td>Anam Cara 2014 Reserve Nicholas Vineyard Pinot...</td>\n",
       "      <td>Pinot Noir</td>\n",
       "      <td>Anam Cara</td>\n",
       "    </tr>\n",
       "    <tr>\n",
       "      <th>22352</th>\n",
       "      <td>US</td>\n",
       "      <td>Chewy and packed with flavors of dark chocolat...</td>\n",
       "      <td>Sunny Mountain Vineyard</td>\n",
       "      <td>90</td>\n",
       "      <td>55.0</td>\n",
       "      <td>Oregon</td>\n",
       "      <td>Willamette Valley</td>\n",
       "      <td>Willamette Valley</td>\n",
       "      <td>Paul Gregutt</td>\n",
       "      <td>@paulgwine</td>\n",
       "      <td>Rex Hill 2014 Sunny Mountain Vineyard Pinot No...</td>\n",
       "      <td>Pinot Noir</td>\n",
       "      <td>Rex Hill</td>\n",
       "    </tr>\n",
       "  </tbody>\n",
       "</table>\n",
       "<p>3489 rows × 13 columns</p>\n",
       "</div>"
      ],
      "text/plain": [
       "      country  ...        winery\n",
       "0          US  ...  Sweet Cheeks\n",
       "4          US  ...         Erath\n",
       "13         US  ...         Z'IVO\n",
       "43         US  ...  Silvan Ridge\n",
       "44         US  ...         Amity\n",
       "...       ...  ...           ...\n",
       "22296      US  ...     Adelsheim\n",
       "22331      US  ...        DanCin\n",
       "22335      US  ...  St. Innocent\n",
       "22348      US  ...     Anam Cara\n",
       "22352      US  ...      Rex Hill\n",
       "\n",
       "[3489 rows x 13 columns]"
      ]
     },
     "execution_count": 18,
     "metadata": {},
     "output_type": "execute_result"
    }
   ],
   "source": [
    "# reviews.province가 'Oregon'과 일치하는지를 찾아줌\n",
    "oregon_wines = reviews.loc[reviews.province =='Oregon']\n",
    "oregon_wines"
   ]
  },
  {
   "cell_type": "markdown",
   "metadata": {
    "id": "y4wKiawjMeJK"
   },
   "source": [
    "## 14.\n",
    "\n",
    "Create a DataFrame `top_oregon_newyork_wines` containing all reviews with at least 80 points (out of 100) for wines from Oregon or New York.\n",
    "\n",
    "Hint: use \"isin(...)\""
   ]
  },
  {
   "cell_type": "code",
   "execution_count": 19,
   "metadata": {
    "id": "QV2ZA7dIMeJL"
   },
   "outputs": [],
   "source": [
    "# isin을 사용해 oregon과 new york에서 온 와인들을 선택하고 &를 이용해 그 중 리뷰 포인트가 80이상인 것들을 뽑아내준다.\n",
    "top_oregon_newyork_wines = reviews.loc[reviews.province.isin(['Oregon', 'New York']) & (reviews.points >= 80),]"
   ]
  },
  {
   "cell_type": "code",
   "execution_count": 20,
   "metadata": {
    "colab": {
     "base_uri": "https://localhost:8080/",
     "height": 1000
    },
    "id": "NFJvt6EIbQGd",
    "outputId": "005de942-0443-4539-a652-500c5827e91c"
   },
   "outputs": [
    {
     "data": {
      "text/html": [
       "<div>\n",
       "<style scoped>\n",
       "    .dataframe tbody tr th:only-of-type {\n",
       "        vertical-align: middle;\n",
       "    }\n",
       "\n",
       "    .dataframe tbody tr th {\n",
       "        vertical-align: top;\n",
       "    }\n",
       "\n",
       "    .dataframe thead th {\n",
       "        text-align: right;\n",
       "    }\n",
       "</style>\n",
       "<table border=\"1\" class=\"dataframe\">\n",
       "  <thead>\n",
       "    <tr style=\"text-align: right;\">\n",
       "      <th></th>\n",
       "      <th>country</th>\n",
       "      <th>description</th>\n",
       "      <th>designation</th>\n",
       "      <th>points</th>\n",
       "      <th>price</th>\n",
       "      <th>province</th>\n",
       "      <th>region_1</th>\n",
       "      <th>region_2</th>\n",
       "      <th>taster_name</th>\n",
       "      <th>taster_twitter_handle</th>\n",
       "      <th>title</th>\n",
       "      <th>variety</th>\n",
       "      <th>winery</th>\n",
       "    </tr>\n",
       "  </thead>\n",
       "  <tbody>\n",
       "    <tr>\n",
       "      <th>0</th>\n",
       "      <td>US</td>\n",
       "      <td>Much like the regular bottling from 2012, this...</td>\n",
       "      <td>Vintner's Reserve Wild Child Block</td>\n",
       "      <td>87</td>\n",
       "      <td>65.0</td>\n",
       "      <td>Oregon</td>\n",
       "      <td>Willamette Valley</td>\n",
       "      <td>Willamette Valley</td>\n",
       "      <td>Paul Gregutt</td>\n",
       "      <td>@paulgwine</td>\n",
       "      <td>Sweet Cheeks 2012 Vintner's Reserve Wild Child...</td>\n",
       "      <td>Pinot Noir</td>\n",
       "      <td>Sweet Cheeks</td>\n",
       "    </tr>\n",
       "    <tr>\n",
       "      <th>4</th>\n",
       "      <td>US</td>\n",
       "      <td>As with many of the Erath 2010 vineyard design...</td>\n",
       "      <td>Hyland</td>\n",
       "      <td>86</td>\n",
       "      <td>50.0</td>\n",
       "      <td>Oregon</td>\n",
       "      <td>McMinnville</td>\n",
       "      <td>Willamette Valley</td>\n",
       "      <td>Paul Gregutt</td>\n",
       "      <td>@paulgwine</td>\n",
       "      <td>Erath 2010 Hyland Pinot Noir (McMinnville)</td>\n",
       "      <td>Pinot Noir</td>\n",
       "      <td>Erath</td>\n",
       "    </tr>\n",
       "    <tr>\n",
       "      <th>13</th>\n",
       "      <td>US</td>\n",
       "      <td>Some rosés are made simply by bleeding the jui...</td>\n",
       "      <td>Rosé of</td>\n",
       "      <td>86</td>\n",
       "      <td>25.0</td>\n",
       "      <td>Oregon</td>\n",
       "      <td>Eola-Amity Hills</td>\n",
       "      <td>Willamette Valley</td>\n",
       "      <td>Paul Gregutt</td>\n",
       "      <td>@paulgwine</td>\n",
       "      <td>Z'IVO 2015 Rosé of Pinot Noir (Eola-Amity Hills)</td>\n",
       "      <td>Pinot Noir</td>\n",
       "      <td>Z'IVO</td>\n",
       "    </tr>\n",
       "    <tr>\n",
       "      <th>43</th>\n",
       "      <td>US</td>\n",
       "      <td>There is an odd, piercing edge to the aromas, ...</td>\n",
       "      <td>Reserve</td>\n",
       "      <td>85</td>\n",
       "      <td>28.0</td>\n",
       "      <td>Oregon</td>\n",
       "      <td>Willamette Valley</td>\n",
       "      <td>Willamette Valley</td>\n",
       "      <td>Paul Gregutt</td>\n",
       "      <td>@paulgwine</td>\n",
       "      <td>Silvan Ridge 2006 Reserve Pinot Noir (Willamet...</td>\n",
       "      <td>Pinot Noir</td>\n",
       "      <td>Silvan Ridge</td>\n",
       "    </tr>\n",
       "    <tr>\n",
       "      <th>44</th>\n",
       "      <td>US</td>\n",
       "      <td>This seems as if it was assembled from lesser ...</td>\n",
       "      <td>Estate Single Vineyard</td>\n",
       "      <td>85</td>\n",
       "      <td>45.0</td>\n",
       "      <td>Oregon</td>\n",
       "      <td>Willamette Valley</td>\n",
       "      <td>Willamette Valley</td>\n",
       "      <td>Paul Gregutt</td>\n",
       "      <td>@paulgwine</td>\n",
       "      <td>Amity 2006 Estate Single Vineyard Pinot Noir (...</td>\n",
       "      <td>Pinot Noir</td>\n",
       "      <td>Amity</td>\n",
       "    </tr>\n",
       "    <tr>\n",
       "      <th>...</th>\n",
       "      <td>...</td>\n",
       "      <td>...</td>\n",
       "      <td>...</td>\n",
       "      <td>...</td>\n",
       "      <td>...</td>\n",
       "      <td>...</td>\n",
       "      <td>...</td>\n",
       "      <td>...</td>\n",
       "      <td>...</td>\n",
       "      <td>...</td>\n",
       "      <td>...</td>\n",
       "      <td>...</td>\n",
       "      <td>...</td>\n",
       "    </tr>\n",
       "    <tr>\n",
       "      <th>22296</th>\n",
       "      <td>US</td>\n",
       "      <td>Elizabeth's Reserve is comprised of Adelsheim'...</td>\n",
       "      <td>Elizabeth's Reserve</td>\n",
       "      <td>89</td>\n",
       "      <td>55.0</td>\n",
       "      <td>Oregon</td>\n",
       "      <td>Willamette Valley</td>\n",
       "      <td>Willamette Valley</td>\n",
       "      <td>Paul Gregutt</td>\n",
       "      <td>@paulgwine</td>\n",
       "      <td>Adelsheim 2011 Elizabeth's Reserve Pinot Noir ...</td>\n",
       "      <td>Pinot Noir</td>\n",
       "      <td>Adelsheim</td>\n",
       "    </tr>\n",
       "    <tr>\n",
       "      <th>22331</th>\n",
       "      <td>US</td>\n",
       "      <td>Though labeled simply “Oregon,” this is 100% H...</td>\n",
       "      <td>Melodia</td>\n",
       "      <td>93</td>\n",
       "      <td>34.0</td>\n",
       "      <td>Oregon</td>\n",
       "      <td>Oregon</td>\n",
       "      <td>Oregon Other</td>\n",
       "      <td>Paul Gregutt</td>\n",
       "      <td>@paulgwine</td>\n",
       "      <td>DanCin 2014 Melodia Pinot Noir (Oregon)</td>\n",
       "      <td>Pinot Noir</td>\n",
       "      <td>DanCin</td>\n",
       "    </tr>\n",
       "    <tr>\n",
       "      <th>22335</th>\n",
       "      <td>US</td>\n",
       "      <td>This biodynamically farmed vineyard is often f...</td>\n",
       "      <td>Momtazi Vineyard</td>\n",
       "      <td>93</td>\n",
       "      <td>36.0</td>\n",
       "      <td>Oregon</td>\n",
       "      <td>McMinnville</td>\n",
       "      <td>Willamette Valley</td>\n",
       "      <td>Paul Gregutt</td>\n",
       "      <td>@paulgwine</td>\n",
       "      <td>St. Innocent 2014 Momtazi Vineyard Pinot Noir ...</td>\n",
       "      <td>Pinot Noir</td>\n",
       "      <td>St. Innocent</td>\n",
       "    </tr>\n",
       "    <tr>\n",
       "      <th>22348</th>\n",
       "      <td>US</td>\n",
       "      <td>The Nicholas reserve sees one-third new French...</td>\n",
       "      <td>Reserve Nicholas Vineyard</td>\n",
       "      <td>90</td>\n",
       "      <td>50.0</td>\n",
       "      <td>Oregon</td>\n",
       "      <td>Chehalem Mountains</td>\n",
       "      <td>Willamette Valley</td>\n",
       "      <td>Paul Gregutt</td>\n",
       "      <td>@paulgwine</td>\n",
       "      <td>Anam Cara 2014 Reserve Nicholas Vineyard Pinot...</td>\n",
       "      <td>Pinot Noir</td>\n",
       "      <td>Anam Cara</td>\n",
       "    </tr>\n",
       "    <tr>\n",
       "      <th>22352</th>\n",
       "      <td>US</td>\n",
       "      <td>Chewy and packed with flavors of dark chocolat...</td>\n",
       "      <td>Sunny Mountain Vineyard</td>\n",
       "      <td>90</td>\n",
       "      <td>55.0</td>\n",
       "      <td>Oregon</td>\n",
       "      <td>Willamette Valley</td>\n",
       "      <td>Willamette Valley</td>\n",
       "      <td>Paul Gregutt</td>\n",
       "      <td>@paulgwine</td>\n",
       "      <td>Rex Hill 2014 Sunny Mountain Vineyard Pinot No...</td>\n",
       "      <td>Pinot Noir</td>\n",
       "      <td>Rex Hill</td>\n",
       "    </tr>\n",
       "  </tbody>\n",
       "</table>\n",
       "<p>3642 rows × 13 columns</p>\n",
       "</div>"
      ],
      "text/plain": [
       "      country  ...        winery\n",
       "0          US  ...  Sweet Cheeks\n",
       "4          US  ...         Erath\n",
       "13         US  ...         Z'IVO\n",
       "43         US  ...  Silvan Ridge\n",
       "44         US  ...         Amity\n",
       "...       ...  ...           ...\n",
       "22296      US  ...     Adelsheim\n",
       "22331      US  ...        DanCin\n",
       "22335      US  ...  St. Innocent\n",
       "22348      US  ...     Anam Cara\n",
       "22352      US  ...      Rex Hill\n",
       "\n",
       "[3642 rows x 13 columns]"
      ]
     },
     "execution_count": 20,
     "metadata": {},
     "output_type": "execute_result"
    }
   ],
   "source": [
    "top_oregon_newyork_wines"
   ]
  },
  {
   "cell_type": "markdown",
   "metadata": {
    "id": "4JyQe8VZiYBv"
   },
   "source": [
    "## 15.\n",
    "\n",
    "What is the median of the `points` column in the `reviews` DataFrame?"
   ]
  },
  {
   "cell_type": "code",
   "execution_count": 21,
   "metadata": {
    "colab": {
     "base_uri": "https://localhost:8080/"
    },
    "id": "LAUpdVkziYBv",
    "outputId": "3248336e-8956-463e-f266-791ba0d3587a"
   },
   "outputs": [
    {
     "data": {
      "text/plain": [
       "90.0"
      ]
     },
     "execution_count": 21,
     "metadata": {},
     "output_type": "execute_result"
    }
   ],
   "source": [
    "# median() 함수를 이용\n",
    "median_points = reviews.points.median()\n",
    "median_points"
   ]
  },
  {
   "cell_type": "markdown",
   "metadata": {
    "id": "0LgM9Ua5iYBx"
   },
   "source": [
    "## 16. \n",
    "What countries are represented in the dataset? (Your answer should not include any duplicates.)"
   ]
  },
  {
   "cell_type": "code",
   "execution_count": 22,
   "metadata": {
    "colab": {
     "base_uri": "https://localhost:8080/"
    },
    "id": "edNhZmSuiYBx",
    "outputId": "515e0341-a09b-4f45-e94a-5a9bf4142534"
   },
   "outputs": [
    {
     "data": {
      "text/plain": [
       "array(['US'], dtype=object)"
      ]
     },
     "execution_count": 22,
     "metadata": {},
     "output_type": "execute_result"
    }
   ],
   "source": [
    "# unique()함수를 이용\n",
    "countries = reviews.country.unique()\n",
    "countries"
   ]
  },
  {
   "cell_type": "markdown",
   "metadata": {
    "id": "FsBFUrj5iYBz"
   },
   "source": [
    "## 17.\n",
    "How often does each taster appear in the dataset? Create a Series `reviews_per_tastername` mapping taster_name to the count of reviews of wines from that taster. "
   ]
  },
  {
   "cell_type": "code",
   "execution_count": 23,
   "metadata": {
    "colab": {
     "base_uri": "https://localhost:8080/"
    },
    "id": "rGWiCPmifBDX",
    "outputId": "93d1fb9f-1b5a-46f0-e126-5942894154e6"
   },
   "outputs": [
    {
     "data": {
      "text/plain": [
       "Virginie Boone       6422\n",
       "Paul Gregutt         5989\n",
       "Matt Kettmann        4479\n",
       "Sean P. Sullivan     3357\n",
       "Jim Gordon           1915\n",
       "Susan Kostrzewa        97\n",
       "Joe Czerwinski         69\n",
       "Michael Schachner      43\n",
       "Lauren Buzzeo          14\n",
       "Christina Pickard       1\n",
       "Roger Voss              1\n",
       "Name: taster_name, dtype: int64"
      ]
     },
     "execution_count": 23,
     "metadata": {},
     "output_type": "execute_result"
    }
   ],
   "source": [
    "# value_counts()함수를 이용\n",
    "reviews_per_tastername = reviews.taster_name.value_counts()\n",
    "reviews_per_tastername"
   ]
  },
  {
   "cell_type": "markdown",
   "metadata": {
    "id": "UXb8cIodiYB0"
   },
   "source": [
    "## 18.\n",
    "Create variable `centered_price` containing a version of the `price` column with the mean price subtracted using:\n",
    "\n",
    "1> map() function\n",
    "\n",
    "2> apply() function\n",
    "\n",
    "3> None of map() function nor apply() function\n",
    "\n",
    "(Note: this 'centering' transformation is a common preprocessing step before applying various machine learning algorithms.) "
   ]
  },
  {
   "cell_type": "markdown",
   "metadata": {
    "id": "7Bga0tPlTVjF"
   },
   "source": [
    "1. map() function"
   ]
  },
  {
   "cell_type": "code",
   "execution_count": 24,
   "metadata": {
    "colab": {
     "base_uri": "https://localhost:8080/"
    },
    "id": "UctSTy8AjRbw",
    "outputId": "a00ed2e5-6cab-43c4-a76d-ccff4db8e08c"
   },
   "outputs": [
    {
     "data": {
      "text/plain": [
       "0        23.534596\n",
       "1       -22.465404\n",
       "2       -19.465404\n",
       "3        27.534596\n",
       "4         8.534596\n",
       "           ...    \n",
       "22382    63.534596\n",
       "22383    -0.465404\n",
       "22384   -21.465404\n",
       "22385    -6.465404\n",
       "22386    -6.465404\n",
       "Name: price, Length: 22387, dtype: float64"
      ]
     },
     "execution_count": 24,
     "metadata": {},
     "output_type": "execute_result"
    }
   ],
   "source": [
    "review_price_mean = reviews.price.mean()\n",
    "centered_price = reviews.price.map(lambda x: x - review_price_mean)\n",
    "centered_price"
   ]
  },
  {
   "cell_type": "markdown",
   "metadata": {
    "id": "O-dvtPwlTXzB"
   },
   "source": [
    "2. apply() function"
   ]
  },
  {
   "cell_type": "code",
   "execution_count": 25,
   "metadata": {
    "colab": {
     "base_uri": "https://localhost:8080/"
    },
    "id": "NlyIAg7Wgs5b",
    "outputId": "c89b19ba-020f-41e0-9078-a37ddd3a048c"
   },
   "outputs": [
    {
     "data": {
      "text/plain": [
       "0        23.534596\n",
       "1       -22.465404\n",
       "2       -19.465404\n",
       "3        27.534596\n",
       "4         8.534596\n",
       "           ...    \n",
       "22382    63.534596\n",
       "22383    -0.465404\n",
       "22384   -21.465404\n",
       "22385    -6.465404\n",
       "22386    -6.465404\n",
       "Name: price, Length: 22387, dtype: float64"
      ]
     },
     "execution_count": 25,
     "metadata": {},
     "output_type": "execute_result"
    }
   ],
   "source": [
    "centered_price = reviews.price.apply(lambda x : x-review_price_mean)\n",
    "centered_price"
   ]
  },
  {
   "cell_type": "markdown",
   "metadata": {
    "id": "-oxR9_JlTaFF"
   },
   "source": [
    "3. None of map() function nor apply() function"
   ]
  },
  {
   "cell_type": "code",
   "execution_count": 26,
   "metadata": {
    "colab": {
     "base_uri": "https://localhost:8080/"
    },
    "id": "4q7U7UNJhLOA",
    "outputId": "115ac4fd-95cb-45ad-d6c9-00991ee50d53"
   },
   "outputs": [
    {
     "data": {
      "text/plain": [
       "0        23.534596\n",
       "1       -22.465404\n",
       "2       -19.465404\n",
       "3        27.534596\n",
       "4         8.534596\n",
       "           ...    \n",
       "22382    63.534596\n",
       "22383    -0.465404\n",
       "22384   -21.465404\n",
       "22385    -6.465404\n",
       "22386    -6.465404\n",
       "Name: price, Length: 22387, dtype: float64"
      ]
     },
     "execution_count": 26,
     "metadata": {},
     "output_type": "execute_result"
    }
   ],
   "source": [
    "centered_price = reviews.price - reviews.price.mean()\n",
    "centered_price"
   ]
  },
  {
   "cell_type": "markdown",
   "metadata": {
    "id": "LboDgtjiiYB1"
   },
   "source": [
    "## 19.\n",
    "I'm an economical wine buyer. Which wine is the \"best bargain\"? Create a variable `bargain_wine` with the title of the wine with the highest points-to-price ratio in the dataset."
   ]
  },
  {
   "cell_type": "code",
   "execution_count": 27,
   "metadata": {
    "colab": {
     "base_uri": "https://localhost:8080/",
     "height": 36
    },
    "id": "4SNJA47Nimjs",
    "outputId": "79c8db4c-560f-437f-b163-c4cf8d6bed6c"
   },
   "outputs": [
    {
     "data": {
      "application/vnd.google.colaboratory.intrinsic+json": {
       "type": "string"
      },
      "text/plain": [
       "\"Pam's Cuties NV Unoaked Chardonnay (California)\""
      ]
     },
     "execution_count": 27,
     "metadata": {},
     "output_type": "execute_result"
    }
   ],
   "source": [
    "# idxmax()함수를 이용해 최대값을 가지는 인덱스 레이블을 출력\n",
    "points_to_price_ratio = (reviews.points / reviews.price).idxmax()\n",
    "bargain_wine = reviews.loc[points_to_price_ratio, \"title\"]\n",
    "bargain_wine"
   ]
  },
  {
   "cell_type": "markdown",
   "metadata": {
    "id": "z9AdHlBQiYB1"
   },
   "source": [
    "## 20.\n",
    "There are only so many words you can use when describing a bottle of wine. Is a wine more likely to be \"tropical\" or \"fruity\"? Create a Series `descriptor_counts` counting how many times each of these two words appears in the `description` column in the dataset."
   ]
  },
  {
   "cell_type": "code",
   "execution_count": 28,
   "metadata": {
    "colab": {
     "base_uri": "https://localhost:8080/"
    },
    "id": "6ssDDgDaiYB2",
    "outputId": "2d8a4464-61d3-4831-957a-90641d57bcfe"
   },
   "outputs": [
    {
     "data": {
      "text/plain": [
       "tropical    452\n",
       "fruity      761\n",
       "dtype: int64"
      ]
     },
     "execution_count": 28,
     "metadata": {},
     "output_type": "execute_result"
    }
   ],
   "source": [
    "# map함수를 이용해 description열에서 두 단어를 포함하는 수를 sum해준뒤 결과를 하나의 series로 만들어줌\n",
    "n_trop = reviews.description.map(lambda desc: \"tropical\" in desc).sum()\n",
    "n_fruity = reviews.description.map(lambda desc: \"fruity\" in desc).sum()\n",
    "descriptor_counts = pd.Series([n_trop, n_fruity], index=['tropical', 'fruity'])\n",
    "descriptor_counts"
   ]
  },
  {
   "cell_type": "markdown",
   "metadata": {
    "id": "stx_VVTEiYB2"
   },
   "source": [
    "## 21.\n",
    "We'd like to host these wine reviews on our website, but a rating system ranging from 80 to 100 points is too hard to understand - we'd like to translate them into simple star ratings. A score of 95 or higher counts as 3 stars, a score of at least 85 but less than 95 is 2 stars. Any other score is 1 star.\n",
    "\n",
    "Also, the New York Vintners Association bought a lot of ads on the site, so any wines from New York should automatically get 3 stars, regardless of points.\n",
    "\n",
    "Create a series `star_ratings` with the number of stars corresponding to each review in the dataset."
   ]
  },
  {
   "cell_type": "code",
   "execution_count": 29,
   "metadata": {
    "id": "XtG-eaRwiYB2"
   },
   "outputs": [],
   "source": [
    "# 별점을 매기는 함수를 작성\n",
    "def star_ratings(row):\n",
    "    if(row[\"province\"]==\"New York\"):\n",
    "        return 3\n",
    "    if(row[\"points\"]>=95):\n",
    "        return 3\n",
    "    elif(row[\"points\"]>=85):\n",
    "        return 2\n",
    "    else:\n",
    "        return 1"
   ]
  },
  {
   "cell_type": "code",
   "execution_count": 30,
   "metadata": {
    "colab": {
     "base_uri": "https://localhost:8080/"
    },
    "id": "aZDftZOIT0jN",
    "outputId": "61fd3d38-788b-4561-95ae-9aa65b9f3e70"
   },
   "outputs": [
    {
     "name": "stdout",
     "output_type": "stream",
     "text": [
      "0        2\n",
      "1        2\n",
      "2        2\n",
      "3        2\n",
      "4        2\n",
      "        ..\n",
      "22382    2\n",
      "22383    2\n",
      "22384    2\n",
      "22385    2\n",
      "22386    2\n",
      "Length: 22387, dtype: int64\n"
     ]
    }
   ],
   "source": [
    "# apply를 이용해 위에서 작성한 star_ratings 함수를 적용\n",
    "star_ratings =  reviews.apply(star_ratings,axis='columns')\n",
    "print(star_ratings)"
   ]
  },
  {
   "cell_type": "code",
   "execution_count": 31,
   "metadata": {
    "colab": {
     "base_uri": "https://localhost:8080/"
    },
    "id": "26AXHPrtT0gV",
    "outputId": "bc929d9b-12a1-4156-da51-641e3f02cebf"
   },
   "outputs": [
    {
     "data": {
      "text/plain": [
       "pandas.core.series.Series"
      ]
     },
     "execution_count": 31,
     "metadata": {},
     "output_type": "execute_result"
    }
   ],
   "source": [
    "type(star_ratings)"
   ]
  },
  {
   "cell_type": "markdown",
   "metadata": {
    "id": "PNHTvROEEcay"
   },
   "source": [
    "**This notebook is an exercise in the [Pandas](https://www.kaggle.com/learn/pandas) course.  You can reference the tutorial at [this link](https://www.kaggle.com/residentmario/grouping-and-sorting).**\n",
    "\n",
    "---\n"
   ]
  },
  {
   "cell_type": "code",
   "execution_count": 32,
   "metadata": {
    "colab": {
     "base_uri": "https://localhost:8080/"
    },
    "id": "E-IETI-QEfRC",
    "outputId": "0e0d4a17-b978-4a53-fe6b-4236cc77b37f"
   },
   "outputs": [
    {
     "name": "stdout",
     "output_type": "stream",
     "text": [
      "Drive already mounted at /content/drive; to attempt to forcibly remount, call drive.mount(\"/content/drive\", force_remount=True).\n"
     ]
    }
   ],
   "source": [
    "from google.colab import drive\n",
    "drive.mount('/content/drive')"
   ]
  },
  {
   "cell_type": "code",
   "execution_count": 33,
   "metadata": {
    "id": "UlsiDEvyE2Ye"
   },
   "outputs": [],
   "source": [
    "import os\n",
    "path = \"/content/drive/MyDrive/Class/2021/2021_2/programming/Actual_Class/Group4/\"\n",
    "os.chdir(path)"
   ]
  },
  {
   "cell_type": "code",
   "execution_count": 34,
   "metadata": {
    "colab": {
     "base_uri": "https://localhost:8080/"
    },
    "id": "ZCrfZMUSFAEj",
    "outputId": "6df96180-8836-4381-f814-cd2ebdadda63"
   },
   "outputs": [
    {
     "name": "stdout",
     "output_type": "stream",
     "text": [
      "Current Working Directory  /content/drive/MyDrive/Class/2021/2021_2/programming/Actual_Class/Group4\n"
     ]
    }
   ],
   "source": [
    "print(\"Current Working Directory \" , os.getcwd())"
   ]
  },
  {
   "cell_type": "markdown",
   "metadata": {
    "id": "XGkwqbmGEca5"
   },
   "source": [
    "# Introduction\n",
    "\n",
    "In these exercises we'll apply groupwise analysis to our dataset.\n",
    "\n",
    "Run the code cell below to load the data before running the exercises."
   ]
  },
  {
   "cell_type": "code",
   "execution_count": 35,
   "metadata": {
    "id": "P1bhr-fIEca6"
   },
   "outputs": [],
   "source": [
    "import pandas as pd\n",
    "\n",
    "reviews = pd.read_csv(\"winemag-data-130k-v2.csv\", index_col=0)\n",
    "#pd.set_option(\"display.max_rows\", 5)"
   ]
  },
  {
   "cell_type": "markdown",
   "metadata": {
    "id": "2gljORvpEca9"
   },
   "source": [
    "## 22.\n",
    "Who are the most common wine reviewers in the dataset? Create a `Series` whose index is the `taster_twitter_handle` category from the dataset, and whose values count how many reviews each person wrote."
   ]
  },
  {
   "cell_type": "code",
   "execution_count": 36,
   "metadata": {
    "colab": {
     "base_uri": "https://localhost:8080/"
    },
    "id": "QKk0b3ZfEca9",
    "outputId": "f1cacab5-f461-4265-e661-4146819b0f2d"
   },
   "outputs": [
    {
     "data": {
      "text/plain": [
       "taster_twitter_handle\n",
       "@AnneInVino          3685\n",
       "@JoeCz               5147\n",
       "@bkfiona               27\n",
       "@gordone_cellars     4177\n",
       "@kerinokeefe        10776\n",
       "@laurbuzz            1835\n",
       "@mattkettmann        6332\n",
       "@paulgwine           9532\n",
       "@suskostrzewa        1085\n",
       "@vboone              9537\n",
       "@vossroger          25514\n",
       "@wawinereport        4966\n",
       "@wineschach         15134\n",
       "@winewchristina         6\n",
       "@worldwineguys       1005\n",
       "Name: taster_twitter_handle, dtype: int64"
      ]
     },
     "execution_count": 36,
     "metadata": {},
     "output_type": "execute_result"
    }
   ],
   "source": [
    "# taster_twitter_handle로 group지어준 뒤에 count()함수를 이용\n",
    "reviews_written = reviews.groupby('taster_twitter_handle').taster_twitter_handle.count()\n",
    "reviews_written"
   ]
  },
  {
   "cell_type": "markdown",
   "metadata": {
    "id": "XIB57qJnEcbA"
   },
   "source": [
    "## 23.\n",
    "What is the best wine I can buy for a given amount of money? Create a `Series` whose index is wine prices and whose values is the maximum number of points a wine costing that much was given in a review. Sort the values by price, ascending (so that `4.0` dollars is at the top and `3300.0` dollars is at the bottom)."
   ]
  },
  {
   "cell_type": "code",
   "execution_count": 37,
   "metadata": {
    "colab": {
     "base_uri": "https://localhost:8080/"
    },
    "id": "Sah9LbtxEcbB",
    "outputId": "4750283a-c2d1-400d-c349-704671405093"
   },
   "outputs": [
    {
     "data": {
      "text/plain": [
       "price\n",
       "4.0       86\n",
       "5.0       87\n",
       "6.0       88\n",
       "7.0       91\n",
       "8.0       91\n",
       "          ..\n",
       "1900.0    98\n",
       "2000.0    97\n",
       "2013.0    91\n",
       "2500.0    96\n",
       "3300.0    88\n",
       "Name: points, Length: 390, dtype: int64"
      ]
     },
     "execution_count": 37,
     "metadata": {},
     "output_type": "execute_result"
    }
   ],
   "source": [
    "best_rating_per_price = reviews.groupby('price').points.max()\n",
    "best_rating_per_price"
   ]
  },
  {
   "cell_type": "markdown",
   "metadata": {
    "id": "nqDeB44xEcbC"
   },
   "source": [
    "## 24.\n",
    "What are the minimum and maximum prices for each `variety` of wine? Create a `DataFrame` whose index is the `variety` category from the dataset and whose values are the `min` and `max` values thereof."
   ]
  },
  {
   "cell_type": "code",
   "execution_count": 38,
   "metadata": {
    "colab": {
     "base_uri": "https://localhost:8080/",
     "height": 455
    },
    "id": "CxoXUotfEcbD",
    "outputId": "58a9346b-60e9-47f2-9ce4-db5fa67f5245"
   },
   "outputs": [
    {
     "data": {
      "text/html": [
       "<div>\n",
       "<style scoped>\n",
       "    .dataframe tbody tr th:only-of-type {\n",
       "        vertical-align: middle;\n",
       "    }\n",
       "\n",
       "    .dataframe tbody tr th {\n",
       "        vertical-align: top;\n",
       "    }\n",
       "\n",
       "    .dataframe thead th {\n",
       "        text-align: right;\n",
       "    }\n",
       "</style>\n",
       "<table border=\"1\" class=\"dataframe\">\n",
       "  <thead>\n",
       "    <tr style=\"text-align: right;\">\n",
       "      <th></th>\n",
       "      <th>min</th>\n",
       "      <th>max</th>\n",
       "    </tr>\n",
       "    <tr>\n",
       "      <th>variety</th>\n",
       "      <th></th>\n",
       "      <th></th>\n",
       "    </tr>\n",
       "  </thead>\n",
       "  <tbody>\n",
       "    <tr>\n",
       "      <th>Abouriou</th>\n",
       "      <td>15.0</td>\n",
       "      <td>75.0</td>\n",
       "    </tr>\n",
       "    <tr>\n",
       "      <th>Agiorgitiko</th>\n",
       "      <td>10.0</td>\n",
       "      <td>66.0</td>\n",
       "    </tr>\n",
       "    <tr>\n",
       "      <th>Aglianico</th>\n",
       "      <td>6.0</td>\n",
       "      <td>180.0</td>\n",
       "    </tr>\n",
       "    <tr>\n",
       "      <th>Aidani</th>\n",
       "      <td>27.0</td>\n",
       "      <td>27.0</td>\n",
       "    </tr>\n",
       "    <tr>\n",
       "      <th>Airen</th>\n",
       "      <td>8.0</td>\n",
       "      <td>10.0</td>\n",
       "    </tr>\n",
       "    <tr>\n",
       "      <th>...</th>\n",
       "      <td>...</td>\n",
       "      <td>...</td>\n",
       "    </tr>\n",
       "    <tr>\n",
       "      <th>Zinfandel</th>\n",
       "      <td>5.0</td>\n",
       "      <td>100.0</td>\n",
       "    </tr>\n",
       "    <tr>\n",
       "      <th>Zlahtina</th>\n",
       "      <td>13.0</td>\n",
       "      <td>16.0</td>\n",
       "    </tr>\n",
       "    <tr>\n",
       "      <th>Zweigelt</th>\n",
       "      <td>9.0</td>\n",
       "      <td>70.0</td>\n",
       "    </tr>\n",
       "    <tr>\n",
       "      <th>Çalkarası</th>\n",
       "      <td>19.0</td>\n",
       "      <td>19.0</td>\n",
       "    </tr>\n",
       "    <tr>\n",
       "      <th>Žilavka</th>\n",
       "      <td>15.0</td>\n",
       "      <td>15.0</td>\n",
       "    </tr>\n",
       "  </tbody>\n",
       "</table>\n",
       "<p>707 rows × 2 columns</p>\n",
       "</div>"
      ],
      "text/plain": [
       "              min    max\n",
       "variety                 \n",
       "Abouriou     15.0   75.0\n",
       "Agiorgitiko  10.0   66.0\n",
       "Aglianico     6.0  180.0\n",
       "Aidani       27.0   27.0\n",
       "Airen         8.0   10.0\n",
       "...           ...    ...\n",
       "Zinfandel     5.0  100.0\n",
       "Zlahtina     13.0   16.0\n",
       "Zweigelt      9.0   70.0\n",
       "Çalkarası    19.0   19.0\n",
       "Žilavka      15.0   15.0\n",
       "\n",
       "[707 rows x 2 columns]"
      ]
     },
     "execution_count": 38,
     "metadata": {},
     "output_type": "execute_result"
    }
   ],
   "source": [
    "# agg 함수를 이용해서 여러개의 함수를 여러 열에 적용\n",
    "price_extremes = reviews.groupby('variety').price.agg([min, max])\n",
    "price_extremes"
   ]
  },
  {
   "cell_type": "markdown",
   "metadata": {
    "id": "h80O7oWpEcbE"
   },
   "source": [
    "## 25.\n",
    "What are the most expensive wine varieties? Create a variable `sorted_varieties` containing a copy of the dataframe from the previous question where varieties are sorted in descending order based on minimum price, then on maximum price (to break ties)."
   ]
  },
  {
   "cell_type": "code",
   "execution_count": 39,
   "metadata": {
    "id": "L4TZjrSgEcbF"
   },
   "outputs": [],
   "source": [
    "sorted_varieties = price_extremes.sort_values(by=['min', 'max'], ascending = False)"
   ]
  },
  {
   "cell_type": "code",
   "execution_count": 40,
   "metadata": {
    "colab": {
     "base_uri": "https://localhost:8080/",
     "height": 455
    },
    "id": "dZwW_DhDqymT",
    "outputId": "b4048ad6-d744-4102-98e2-f761dd3f6248"
   },
   "outputs": [
    {
     "data": {
      "text/html": [
       "<div>\n",
       "<style scoped>\n",
       "    .dataframe tbody tr th:only-of-type {\n",
       "        vertical-align: middle;\n",
       "    }\n",
       "\n",
       "    .dataframe tbody tr th {\n",
       "        vertical-align: top;\n",
       "    }\n",
       "\n",
       "    .dataframe thead th {\n",
       "        text-align: right;\n",
       "    }\n",
       "</style>\n",
       "<table border=\"1\" class=\"dataframe\">\n",
       "  <thead>\n",
       "    <tr style=\"text-align: right;\">\n",
       "      <th></th>\n",
       "      <th>min</th>\n",
       "      <th>max</th>\n",
       "    </tr>\n",
       "    <tr>\n",
       "      <th>variety</th>\n",
       "      <th></th>\n",
       "      <th></th>\n",
       "    </tr>\n",
       "  </thead>\n",
       "  <tbody>\n",
       "    <tr>\n",
       "      <th>Ramisco</th>\n",
       "      <td>495.0</td>\n",
       "      <td>495.0</td>\n",
       "    </tr>\n",
       "    <tr>\n",
       "      <th>Terrantez</th>\n",
       "      <td>236.0</td>\n",
       "      <td>236.0</td>\n",
       "    </tr>\n",
       "    <tr>\n",
       "      <th>Francisa</th>\n",
       "      <td>160.0</td>\n",
       "      <td>160.0</td>\n",
       "    </tr>\n",
       "    <tr>\n",
       "      <th>Rosenmuskateller</th>\n",
       "      <td>150.0</td>\n",
       "      <td>150.0</td>\n",
       "    </tr>\n",
       "    <tr>\n",
       "      <th>Tinta Negra Mole</th>\n",
       "      <td>112.0</td>\n",
       "      <td>112.0</td>\n",
       "    </tr>\n",
       "    <tr>\n",
       "      <th>...</th>\n",
       "      <td>...</td>\n",
       "      <td>...</td>\n",
       "    </tr>\n",
       "    <tr>\n",
       "      <th>Roscetto</th>\n",
       "      <td>NaN</td>\n",
       "      <td>NaN</td>\n",
       "    </tr>\n",
       "    <tr>\n",
       "      <th>Sauvignon Blanc-Sauvignon Gris</th>\n",
       "      <td>NaN</td>\n",
       "      <td>NaN</td>\n",
       "    </tr>\n",
       "    <tr>\n",
       "      <th>Tempranillo-Malbec</th>\n",
       "      <td>NaN</td>\n",
       "      <td>NaN</td>\n",
       "    </tr>\n",
       "    <tr>\n",
       "      <th>Vital</th>\n",
       "      <td>NaN</td>\n",
       "      <td>NaN</td>\n",
       "    </tr>\n",
       "    <tr>\n",
       "      <th>Zelen</th>\n",
       "      <td>NaN</td>\n",
       "      <td>NaN</td>\n",
       "    </tr>\n",
       "  </tbody>\n",
       "</table>\n",
       "<p>707 rows × 2 columns</p>\n",
       "</div>"
      ],
      "text/plain": [
       "                                  min    max\n",
       "variety                                     \n",
       "Ramisco                         495.0  495.0\n",
       "Terrantez                       236.0  236.0\n",
       "Francisa                        160.0  160.0\n",
       "Rosenmuskateller                150.0  150.0\n",
       "Tinta Negra Mole                112.0  112.0\n",
       "...                               ...    ...\n",
       "Roscetto                          NaN    NaN\n",
       "Sauvignon Blanc-Sauvignon Gris    NaN    NaN\n",
       "Tempranillo-Malbec                NaN    NaN\n",
       "Vital                             NaN    NaN\n",
       "Zelen                             NaN    NaN\n",
       "\n",
       "[707 rows x 2 columns]"
      ]
     },
     "execution_count": 40,
     "metadata": {},
     "output_type": "execute_result"
    }
   ],
   "source": [
    "sorted_varieties"
   ]
  },
  {
   "cell_type": "markdown",
   "metadata": {
    "id": "WPMpdyr9EcbG"
   },
   "source": [
    "## 26.\n",
    "Create a `Series` whose index is reviewers and whose values is the average review score given out by that reviewer. Hint: you will need the `taster_name` and `points` columns."
   ]
  },
  {
   "cell_type": "code",
   "execution_count": 41,
   "metadata": {
    "colab": {
     "base_uri": "https://localhost:8080/"
    },
    "id": "NoQlp6EnEcbH",
    "outputId": "189bf5de-91df-4168-80a4-de7e7aabdd7a"
   },
   "outputs": [
    {
     "data": {
      "text/plain": [
       "taster_name\n",
       "Alexander Peartree    85.855422\n",
       "Anna Lee C. Iijima    88.415629\n",
       "Anne Krebiehl MW      90.562551\n",
       "Carrie Dykes          86.395683\n",
       "Christina Pickard     87.833333\n",
       "Fiona Adams           86.888889\n",
       "Jeff Jenssen          88.319756\n",
       "Jim Gordon            88.626287\n",
       "Joe Czerwinski        88.536235\n",
       "Kerin O’Keefe         88.867947\n",
       "Lauren Buzzeo         87.739510\n",
       "Matt Kettmann         90.008686\n",
       "Michael Schachner     86.907493\n",
       "Mike DeSimone         89.101167\n",
       "Paul Gregutt          89.082564\n",
       "Roger Voss            88.708003\n",
       "Sean P. Sullivan      88.755739\n",
       "Susan Kostrzewa       86.609217\n",
       "Virginie Boone        89.213379\n",
       "Name: points, dtype: float64"
      ]
     },
     "execution_count": 41,
     "metadata": {},
     "output_type": "execute_result"
    }
   ],
   "source": [
    "reviewer_mean_ratings = reviews.groupby('taster_name').points.mean()\n",
    "reviewer_mean_ratings"
   ]
  },
  {
   "cell_type": "markdown",
   "metadata": {
    "id": "TZVjQ73NEcbH"
   },
   "source": [
    "Are there significant differences in the average scores assigned by the various reviewers? Run the cell below to use the `describe()` method to see a summary of the range of values."
   ]
  },
  {
   "cell_type": "code",
   "execution_count": 42,
   "metadata": {
    "colab": {
     "base_uri": "https://localhost:8080/"
    },
    "id": "CDdlX7jCEcbI",
    "outputId": "1666c7e4-71ae-48fe-ca11-001c6b7d6f3e"
   },
   "outputs": [
    {
     "data": {
      "text/plain": [
       "count    19.000000\n",
       "mean     88.233026\n",
       "std       1.243610\n",
       "min      85.855422\n",
       "25%      87.323501\n",
       "50%      88.536235\n",
       "75%      88.975256\n",
       "max      90.562551\n",
       "Name: points, dtype: float64"
      ]
     },
     "execution_count": 42,
     "metadata": {},
     "output_type": "execute_result"
    }
   ],
   "source": [
    "reviewer_mean_ratings.describe()"
   ]
  },
  {
   "cell_type": "markdown",
   "metadata": {
    "id": "Xp5IbDYIEcbI"
   },
   "source": [
    "## 27.\n",
    "What combination of countries and varieties are most common? Create a `Series` whose index is a `MultiIndex`of `{country, variety}` pairs. For example, a pinot noir produced in the US should map to `{\"US\", \"Pinot Noir\"}`. Sort the values in the `Series` in descending order based on wine count."
   ]
  },
  {
   "cell_type": "code",
   "execution_count": 43,
   "metadata": {
    "id": "kFh-Du-cEcbJ"
   },
   "outputs": [],
   "source": [
    "country_variety_counts = reviews.groupby(['country', 'variety']).variety.count().sort_values(ascending = False)"
   ]
  },
  {
   "cell_type": "code",
   "execution_count": 44,
   "metadata": {
    "colab": {
     "base_uri": "https://localhost:8080/"
    },
    "id": "BLwuLOs_rIg3",
    "outputId": "b980765b-dc1e-4551-b9d3-df0cfca984b2"
   },
   "outputs": [
    {
     "data": {
      "text/plain": [
       "country    variety                 \n",
       "US         Pinot Noir                  9885\n",
       "           Cabernet Sauvignon          7315\n",
       "           Chardonnay                  6801\n",
       "France     Bordeaux-style Red Blend    4725\n",
       "Italy      Red Blend                   3624\n",
       "                                       ... \n",
       "Uruguay    Tempranillo-Tannat             1\n",
       "Italy      Pignolo                        1\n",
       "           Muscat                         1\n",
       "           Moscato di Noto                1\n",
       "Argentina  Barbera                        1\n",
       "Name: variety, Length: 1612, dtype: int64"
      ]
     },
     "execution_count": 44,
     "metadata": {},
     "output_type": "execute_result"
    }
   ],
   "source": [
    "country_variety_counts"
   ]
  },
  {
   "cell_type": "markdown",
   "metadata": {
    "id": "iQvzNkCvF4oB"
   },
   "source": [
    "## 28. \n",
    "What is the data type of the `points` column in the dataset?"
   ]
  },
  {
   "cell_type": "code",
   "execution_count": 45,
   "metadata": {
    "colab": {
     "base_uri": "https://localhost:8080/"
    },
    "id": "HDOXYiHdF4oC",
    "outputId": "930bf206-86fb-4d4f-9626-5b3f7d312c29"
   },
   "outputs": [
    {
     "data": {
      "text/plain": [
       "dtype('int64')"
      ]
     },
     "execution_count": 45,
     "metadata": {},
     "output_type": "execute_result"
    }
   ],
   "source": [
    "reviews.points.dtype"
   ]
  },
  {
   "cell_type": "markdown",
   "metadata": {
    "id": "UOr9uvS1F4oC"
   },
   "source": [
    "## 29. \n",
    "Create a Series from entries in the `points` column, but convert the entries to strings. Hint: strings are `str` in native Python."
   ]
  },
  {
   "cell_type": "code",
   "execution_count": 46,
   "metadata": {
    "colab": {
     "base_uri": "https://localhost:8080/"
    },
    "id": "_hDawy3cF4oD",
    "outputId": "f6b27704-49d1-43ba-ad54-707b89b0c820"
   },
   "outputs": [
    {
     "data": {
      "text/plain": [
       "0         87\n",
       "1         87\n",
       "2         87\n",
       "3         87\n",
       "4         87\n",
       "          ..\n",
       "129966    90\n",
       "129967    90\n",
       "129968    90\n",
       "129969    90\n",
       "129970    90\n",
       "Name: points, Length: 129971, dtype: object"
      ]
     },
     "execution_count": 46,
     "metadata": {},
     "output_type": "execute_result"
    }
   ],
   "source": [
    "reviews.points.astype(str)"
   ]
  },
  {
   "cell_type": "markdown",
   "metadata": {
    "id": "ppYrJdHJF4oE"
   },
   "source": [
    "## 30.\n",
    "Sometimes the price column is null. How many reviews in the dataset are missing a price?"
   ]
  },
  {
   "cell_type": "code",
   "execution_count": 47,
   "metadata": {
    "colab": {
     "base_uri": "https://localhost:8080/"
    },
    "id": "zPXdMPy_F4oE",
    "outputId": "30f5f967-372d-44b9-fde1-8a84ed3ac419"
   },
   "outputs": [
    {
     "data": {
      "text/plain": [
       "8996"
      ]
     },
     "execution_count": 47,
     "metadata": {},
     "output_type": "execute_result"
    }
   ],
   "source": [
    "# isnull() 메소드는 관측치가 결측이면 True, 결측이 아니면 False의 boollean 값을 반환\n",
    "\n",
    "missing_price_reviews = reviews[reviews.price.isnull()]\n",
    "n_missing_prices = len(missing_price_reviews)\n",
    "n_missing_prices"
   ]
  },
  {
   "cell_type": "markdown",
   "metadata": {
    "id": "AZkNd3rLF4oF"
   },
   "source": [
    "## 31.\n",
    "What are the most common wine-producing regions? Create a Series counting the number of times each value occurs in the `region_1` field. This field is often missing data, so replace missing values with `Unknown`. Sort in descending order.  Your output should look something like this:\n",
    "\n",
    "```\n",
    "Unknown                    21247\n",
    "Napa Valley                 4480\n",
    "                           ...  \n",
    "Bardolino Superiore            1\n",
    "Primitivo del Tarantino        1\n",
    "Name: region_1, Length: 1230, dtype: int64\n",
    "```"
   ]
  },
  {
   "cell_type": "code",
   "execution_count": 48,
   "metadata": {
    "id": "17U3JzDoGHcz"
   },
   "outputs": [],
   "source": [
    "reviews_per_region = reviews.region_1.fillna('Unknown').value_counts().sort_values(ascending=False)"
   ]
  },
  {
   "cell_type": "code",
   "execution_count": 49,
   "metadata": {
    "colab": {
     "base_uri": "https://localhost:8080/"
    },
    "id": "_G-kVgZ7vC4Z",
    "outputId": "3e5c8ae4-41d9-493a-c1a0-330d69bf2a82"
   },
   "outputs": [
    {
     "data": {
      "text/plain": [
       "Unknown                                  21247\n",
       "Napa Valley                               4480\n",
       "Columbia Valley (WA)                      4124\n",
       "Russian River Valley                      3091\n",
       "California                                2629\n",
       "                                         ...  \n",
       "Paestum                                      1\n",
       "Côtes du Roussillon Villages Caramany        1\n",
       "Strevi                                       1\n",
       "Saussignac                                   1\n",
       "Catalanesca del Monte Somma                  1\n",
       "Name: region_1, Length: 1230, dtype: int64"
      ]
     },
     "execution_count": 49,
     "metadata": {},
     "output_type": "execute_result"
    }
   ],
   "source": [
    "reviews_per_region"
   ]
  },
  {
   "cell_type": "markdown",
   "metadata": {
    "id": "ZlTzQ3jJGVEs"
   },
   "source": [
    "## 32.\n",
    "`region_1` and `region_2` are pretty uninformative names for locale columns in the dataset. Create a copy of `reviews` with these columns renamed to `region` and `locale`, respectively."
   ]
  },
  {
   "cell_type": "code",
   "execution_count": 50,
   "metadata": {
    "colab": {
     "base_uri": "https://localhost:8080/",
     "height": 1000
    },
    "id": "H6eGuTY-GVEt",
    "outputId": "8a881474-2db9-48a1-861c-4d4b0218ca77"
   },
   "outputs": [
    {
     "data": {
      "text/html": [
       "<div>\n",
       "<style scoped>\n",
       "    .dataframe tbody tr th:only-of-type {\n",
       "        vertical-align: middle;\n",
       "    }\n",
       "\n",
       "    .dataframe tbody tr th {\n",
       "        vertical-align: top;\n",
       "    }\n",
       "\n",
       "    .dataframe thead th {\n",
       "        text-align: right;\n",
       "    }\n",
       "</style>\n",
       "<table border=\"1\" class=\"dataframe\">\n",
       "  <thead>\n",
       "    <tr style=\"text-align: right;\">\n",
       "      <th></th>\n",
       "      <th>country</th>\n",
       "      <th>description</th>\n",
       "      <th>designation</th>\n",
       "      <th>points</th>\n",
       "      <th>price</th>\n",
       "      <th>province</th>\n",
       "      <th>region</th>\n",
       "      <th>locale</th>\n",
       "      <th>taster_name</th>\n",
       "      <th>taster_twitter_handle</th>\n",
       "      <th>title</th>\n",
       "      <th>variety</th>\n",
       "      <th>winery</th>\n",
       "    </tr>\n",
       "  </thead>\n",
       "  <tbody>\n",
       "    <tr>\n",
       "      <th>0</th>\n",
       "      <td>Italy</td>\n",
       "      <td>Aromas include tropical fruit, broom, brimston...</td>\n",
       "      <td>Vulkà Bianco</td>\n",
       "      <td>87</td>\n",
       "      <td>NaN</td>\n",
       "      <td>Sicily &amp; Sardinia</td>\n",
       "      <td>Etna</td>\n",
       "      <td>NaN</td>\n",
       "      <td>Kerin O’Keefe</td>\n",
       "      <td>@kerinokeefe</td>\n",
       "      <td>Nicosia 2013 Vulkà Bianco  (Etna)</td>\n",
       "      <td>White Blend</td>\n",
       "      <td>Nicosia</td>\n",
       "    </tr>\n",
       "    <tr>\n",
       "      <th>1</th>\n",
       "      <td>Portugal</td>\n",
       "      <td>This is ripe and fruity, a wine that is smooth...</td>\n",
       "      <td>Avidagos</td>\n",
       "      <td>87</td>\n",
       "      <td>15.0</td>\n",
       "      <td>Douro</td>\n",
       "      <td>NaN</td>\n",
       "      <td>NaN</td>\n",
       "      <td>Roger Voss</td>\n",
       "      <td>@vossroger</td>\n",
       "      <td>Quinta dos Avidagos 2011 Avidagos Red (Douro)</td>\n",
       "      <td>Portuguese Red</td>\n",
       "      <td>Quinta dos Avidagos</td>\n",
       "    </tr>\n",
       "    <tr>\n",
       "      <th>2</th>\n",
       "      <td>US</td>\n",
       "      <td>Tart and snappy, the flavors of lime flesh and...</td>\n",
       "      <td>NaN</td>\n",
       "      <td>87</td>\n",
       "      <td>14.0</td>\n",
       "      <td>Oregon</td>\n",
       "      <td>Willamette Valley</td>\n",
       "      <td>Willamette Valley</td>\n",
       "      <td>Paul Gregutt</td>\n",
       "      <td>@paulgwine</td>\n",
       "      <td>Rainstorm 2013 Pinot Gris (Willamette Valley)</td>\n",
       "      <td>Pinot Gris</td>\n",
       "      <td>Rainstorm</td>\n",
       "    </tr>\n",
       "    <tr>\n",
       "      <th>3</th>\n",
       "      <td>US</td>\n",
       "      <td>Pineapple rind, lemon pith and orange blossom ...</td>\n",
       "      <td>Reserve Late Harvest</td>\n",
       "      <td>87</td>\n",
       "      <td>13.0</td>\n",
       "      <td>Michigan</td>\n",
       "      <td>Lake Michigan Shore</td>\n",
       "      <td>NaN</td>\n",
       "      <td>Alexander Peartree</td>\n",
       "      <td>NaN</td>\n",
       "      <td>St. Julian 2013 Reserve Late Harvest Riesling ...</td>\n",
       "      <td>Riesling</td>\n",
       "      <td>St. Julian</td>\n",
       "    </tr>\n",
       "    <tr>\n",
       "      <th>4</th>\n",
       "      <td>US</td>\n",
       "      <td>Much like the regular bottling from 2012, this...</td>\n",
       "      <td>Vintner's Reserve Wild Child Block</td>\n",
       "      <td>87</td>\n",
       "      <td>65.0</td>\n",
       "      <td>Oregon</td>\n",
       "      <td>Willamette Valley</td>\n",
       "      <td>Willamette Valley</td>\n",
       "      <td>Paul Gregutt</td>\n",
       "      <td>@paulgwine</td>\n",
       "      <td>Sweet Cheeks 2012 Vintner's Reserve Wild Child...</td>\n",
       "      <td>Pinot Noir</td>\n",
       "      <td>Sweet Cheeks</td>\n",
       "    </tr>\n",
       "    <tr>\n",
       "      <th>...</th>\n",
       "      <td>...</td>\n",
       "      <td>...</td>\n",
       "      <td>...</td>\n",
       "      <td>...</td>\n",
       "      <td>...</td>\n",
       "      <td>...</td>\n",
       "      <td>...</td>\n",
       "      <td>...</td>\n",
       "      <td>...</td>\n",
       "      <td>...</td>\n",
       "      <td>...</td>\n",
       "      <td>...</td>\n",
       "      <td>...</td>\n",
       "    </tr>\n",
       "    <tr>\n",
       "      <th>129966</th>\n",
       "      <td>Germany</td>\n",
       "      <td>Notes of honeysuckle and cantaloupe sweeten th...</td>\n",
       "      <td>Brauneberger Juffer-Sonnenuhr Spätlese</td>\n",
       "      <td>90</td>\n",
       "      <td>28.0</td>\n",
       "      <td>Mosel</td>\n",
       "      <td>NaN</td>\n",
       "      <td>NaN</td>\n",
       "      <td>Anna Lee C. Iijima</td>\n",
       "      <td>NaN</td>\n",
       "      <td>Dr. H. Thanisch (Erben Müller-Burggraef) 2013 ...</td>\n",
       "      <td>Riesling</td>\n",
       "      <td>Dr. H. Thanisch (Erben Müller-Burggraef)</td>\n",
       "    </tr>\n",
       "    <tr>\n",
       "      <th>129967</th>\n",
       "      <td>US</td>\n",
       "      <td>Citation is given as much as a decade of bottl...</td>\n",
       "      <td>NaN</td>\n",
       "      <td>90</td>\n",
       "      <td>75.0</td>\n",
       "      <td>Oregon</td>\n",
       "      <td>Oregon</td>\n",
       "      <td>Oregon Other</td>\n",
       "      <td>Paul Gregutt</td>\n",
       "      <td>@paulgwine</td>\n",
       "      <td>Citation 2004 Pinot Noir (Oregon)</td>\n",
       "      <td>Pinot Noir</td>\n",
       "      <td>Citation</td>\n",
       "    </tr>\n",
       "    <tr>\n",
       "      <th>129968</th>\n",
       "      <td>France</td>\n",
       "      <td>Well-drained gravel soil gives this wine its c...</td>\n",
       "      <td>Kritt</td>\n",
       "      <td>90</td>\n",
       "      <td>30.0</td>\n",
       "      <td>Alsace</td>\n",
       "      <td>Alsace</td>\n",
       "      <td>NaN</td>\n",
       "      <td>Roger Voss</td>\n",
       "      <td>@vossroger</td>\n",
       "      <td>Domaine Gresser 2013 Kritt Gewurztraminer (Als...</td>\n",
       "      <td>Gewürztraminer</td>\n",
       "      <td>Domaine Gresser</td>\n",
       "    </tr>\n",
       "    <tr>\n",
       "      <th>129969</th>\n",
       "      <td>France</td>\n",
       "      <td>A dry style of Pinot Gris, this is crisp with ...</td>\n",
       "      <td>NaN</td>\n",
       "      <td>90</td>\n",
       "      <td>32.0</td>\n",
       "      <td>Alsace</td>\n",
       "      <td>Alsace</td>\n",
       "      <td>NaN</td>\n",
       "      <td>Roger Voss</td>\n",
       "      <td>@vossroger</td>\n",
       "      <td>Domaine Marcel Deiss 2012 Pinot Gris (Alsace)</td>\n",
       "      <td>Pinot Gris</td>\n",
       "      <td>Domaine Marcel Deiss</td>\n",
       "    </tr>\n",
       "    <tr>\n",
       "      <th>129970</th>\n",
       "      <td>France</td>\n",
       "      <td>Big, rich and off-dry, this is powered by inte...</td>\n",
       "      <td>Lieu-dit Harth Cuvée Caroline</td>\n",
       "      <td>90</td>\n",
       "      <td>21.0</td>\n",
       "      <td>Alsace</td>\n",
       "      <td>Alsace</td>\n",
       "      <td>NaN</td>\n",
       "      <td>Roger Voss</td>\n",
       "      <td>@vossroger</td>\n",
       "      <td>Domaine Schoffit 2012 Lieu-dit Harth Cuvée Car...</td>\n",
       "      <td>Gewürztraminer</td>\n",
       "      <td>Domaine Schoffit</td>\n",
       "    </tr>\n",
       "  </tbody>\n",
       "</table>\n",
       "<p>129971 rows × 13 columns</p>\n",
       "</div>"
      ],
      "text/plain": [
       "         country  ...                                    winery\n",
       "0          Italy  ...                                   Nicosia\n",
       "1       Portugal  ...                       Quinta dos Avidagos\n",
       "2             US  ...                                 Rainstorm\n",
       "3             US  ...                                St. Julian\n",
       "4             US  ...                              Sweet Cheeks\n",
       "...          ...  ...                                       ...\n",
       "129966   Germany  ...  Dr. H. Thanisch (Erben Müller-Burggraef)\n",
       "129967        US  ...                                  Citation\n",
       "129968    France  ...                           Domaine Gresser\n",
       "129969    France  ...                      Domaine Marcel Deiss\n",
       "129970    France  ...                          Domaine Schoffit\n",
       "\n",
       "[129971 rows x 13 columns]"
      ]
     },
     "execution_count": 50,
     "metadata": {},
     "output_type": "execute_result"
    }
   ],
   "source": [
    "# rename을 이용해 column명을 변경\n",
    "renamed = reviews.rename(columns=dict(region_1='region', region_2='locale'))\n",
    "renamed"
   ]
  },
  {
   "cell_type": "markdown",
   "metadata": {
    "id": "Sjvx5CdzGVEv"
   },
   "source": [
    "## 33.\n",
    "Set the index name in the dataset to `wines`."
   ]
  },
  {
   "cell_type": "code",
   "execution_count": 51,
   "metadata": {
    "colab": {
     "base_uri": "https://localhost:8080/",
     "height": 1000
    },
    "id": "xMJ-agvDGVEw",
    "outputId": "9a464dcd-085e-4de7-a510-e25134fcac24"
   },
   "outputs": [
    {
     "data": {
      "text/html": [
       "<div>\n",
       "<style scoped>\n",
       "    .dataframe tbody tr th:only-of-type {\n",
       "        vertical-align: middle;\n",
       "    }\n",
       "\n",
       "    .dataframe tbody tr th {\n",
       "        vertical-align: top;\n",
       "    }\n",
       "\n",
       "    .dataframe thead th {\n",
       "        text-align: right;\n",
       "    }\n",
       "</style>\n",
       "<table border=\"1\" class=\"dataframe\">\n",
       "  <thead>\n",
       "    <tr style=\"text-align: right;\">\n",
       "      <th></th>\n",
       "      <th>country</th>\n",
       "      <th>description</th>\n",
       "      <th>designation</th>\n",
       "      <th>points</th>\n",
       "      <th>price</th>\n",
       "      <th>province</th>\n",
       "      <th>region_1</th>\n",
       "      <th>region_2</th>\n",
       "      <th>taster_name</th>\n",
       "      <th>taster_twitter_handle</th>\n",
       "      <th>title</th>\n",
       "      <th>variety</th>\n",
       "      <th>winery</th>\n",
       "    </tr>\n",
       "    <tr>\n",
       "      <th>wines</th>\n",
       "      <th></th>\n",
       "      <th></th>\n",
       "      <th></th>\n",
       "      <th></th>\n",
       "      <th></th>\n",
       "      <th></th>\n",
       "      <th></th>\n",
       "      <th></th>\n",
       "      <th></th>\n",
       "      <th></th>\n",
       "      <th></th>\n",
       "      <th></th>\n",
       "      <th></th>\n",
       "    </tr>\n",
       "  </thead>\n",
       "  <tbody>\n",
       "    <tr>\n",
       "      <th>0</th>\n",
       "      <td>Italy</td>\n",
       "      <td>Aromas include tropical fruit, broom, brimston...</td>\n",
       "      <td>Vulkà Bianco</td>\n",
       "      <td>87</td>\n",
       "      <td>NaN</td>\n",
       "      <td>Sicily &amp; Sardinia</td>\n",
       "      <td>Etna</td>\n",
       "      <td>NaN</td>\n",
       "      <td>Kerin O’Keefe</td>\n",
       "      <td>@kerinokeefe</td>\n",
       "      <td>Nicosia 2013 Vulkà Bianco  (Etna)</td>\n",
       "      <td>White Blend</td>\n",
       "      <td>Nicosia</td>\n",
       "    </tr>\n",
       "    <tr>\n",
       "      <th>1</th>\n",
       "      <td>Portugal</td>\n",
       "      <td>This is ripe and fruity, a wine that is smooth...</td>\n",
       "      <td>Avidagos</td>\n",
       "      <td>87</td>\n",
       "      <td>15.0</td>\n",
       "      <td>Douro</td>\n",
       "      <td>NaN</td>\n",
       "      <td>NaN</td>\n",
       "      <td>Roger Voss</td>\n",
       "      <td>@vossroger</td>\n",
       "      <td>Quinta dos Avidagos 2011 Avidagos Red (Douro)</td>\n",
       "      <td>Portuguese Red</td>\n",
       "      <td>Quinta dos Avidagos</td>\n",
       "    </tr>\n",
       "    <tr>\n",
       "      <th>2</th>\n",
       "      <td>US</td>\n",
       "      <td>Tart and snappy, the flavors of lime flesh and...</td>\n",
       "      <td>NaN</td>\n",
       "      <td>87</td>\n",
       "      <td>14.0</td>\n",
       "      <td>Oregon</td>\n",
       "      <td>Willamette Valley</td>\n",
       "      <td>Willamette Valley</td>\n",
       "      <td>Paul Gregutt</td>\n",
       "      <td>@paulgwine</td>\n",
       "      <td>Rainstorm 2013 Pinot Gris (Willamette Valley)</td>\n",
       "      <td>Pinot Gris</td>\n",
       "      <td>Rainstorm</td>\n",
       "    </tr>\n",
       "    <tr>\n",
       "      <th>3</th>\n",
       "      <td>US</td>\n",
       "      <td>Pineapple rind, lemon pith and orange blossom ...</td>\n",
       "      <td>Reserve Late Harvest</td>\n",
       "      <td>87</td>\n",
       "      <td>13.0</td>\n",
       "      <td>Michigan</td>\n",
       "      <td>Lake Michigan Shore</td>\n",
       "      <td>NaN</td>\n",
       "      <td>Alexander Peartree</td>\n",
       "      <td>NaN</td>\n",
       "      <td>St. Julian 2013 Reserve Late Harvest Riesling ...</td>\n",
       "      <td>Riesling</td>\n",
       "      <td>St. Julian</td>\n",
       "    </tr>\n",
       "    <tr>\n",
       "      <th>4</th>\n",
       "      <td>US</td>\n",
       "      <td>Much like the regular bottling from 2012, this...</td>\n",
       "      <td>Vintner's Reserve Wild Child Block</td>\n",
       "      <td>87</td>\n",
       "      <td>65.0</td>\n",
       "      <td>Oregon</td>\n",
       "      <td>Willamette Valley</td>\n",
       "      <td>Willamette Valley</td>\n",
       "      <td>Paul Gregutt</td>\n",
       "      <td>@paulgwine</td>\n",
       "      <td>Sweet Cheeks 2012 Vintner's Reserve Wild Child...</td>\n",
       "      <td>Pinot Noir</td>\n",
       "      <td>Sweet Cheeks</td>\n",
       "    </tr>\n",
       "    <tr>\n",
       "      <th>...</th>\n",
       "      <td>...</td>\n",
       "      <td>...</td>\n",
       "      <td>...</td>\n",
       "      <td>...</td>\n",
       "      <td>...</td>\n",
       "      <td>...</td>\n",
       "      <td>...</td>\n",
       "      <td>...</td>\n",
       "      <td>...</td>\n",
       "      <td>...</td>\n",
       "      <td>...</td>\n",
       "      <td>...</td>\n",
       "      <td>...</td>\n",
       "    </tr>\n",
       "    <tr>\n",
       "      <th>129966</th>\n",
       "      <td>Germany</td>\n",
       "      <td>Notes of honeysuckle and cantaloupe sweeten th...</td>\n",
       "      <td>Brauneberger Juffer-Sonnenuhr Spätlese</td>\n",
       "      <td>90</td>\n",
       "      <td>28.0</td>\n",
       "      <td>Mosel</td>\n",
       "      <td>NaN</td>\n",
       "      <td>NaN</td>\n",
       "      <td>Anna Lee C. Iijima</td>\n",
       "      <td>NaN</td>\n",
       "      <td>Dr. H. Thanisch (Erben Müller-Burggraef) 2013 ...</td>\n",
       "      <td>Riesling</td>\n",
       "      <td>Dr. H. Thanisch (Erben Müller-Burggraef)</td>\n",
       "    </tr>\n",
       "    <tr>\n",
       "      <th>129967</th>\n",
       "      <td>US</td>\n",
       "      <td>Citation is given as much as a decade of bottl...</td>\n",
       "      <td>NaN</td>\n",
       "      <td>90</td>\n",
       "      <td>75.0</td>\n",
       "      <td>Oregon</td>\n",
       "      <td>Oregon</td>\n",
       "      <td>Oregon Other</td>\n",
       "      <td>Paul Gregutt</td>\n",
       "      <td>@paulgwine</td>\n",
       "      <td>Citation 2004 Pinot Noir (Oregon)</td>\n",
       "      <td>Pinot Noir</td>\n",
       "      <td>Citation</td>\n",
       "    </tr>\n",
       "    <tr>\n",
       "      <th>129968</th>\n",
       "      <td>France</td>\n",
       "      <td>Well-drained gravel soil gives this wine its c...</td>\n",
       "      <td>Kritt</td>\n",
       "      <td>90</td>\n",
       "      <td>30.0</td>\n",
       "      <td>Alsace</td>\n",
       "      <td>Alsace</td>\n",
       "      <td>NaN</td>\n",
       "      <td>Roger Voss</td>\n",
       "      <td>@vossroger</td>\n",
       "      <td>Domaine Gresser 2013 Kritt Gewurztraminer (Als...</td>\n",
       "      <td>Gewürztraminer</td>\n",
       "      <td>Domaine Gresser</td>\n",
       "    </tr>\n",
       "    <tr>\n",
       "      <th>129969</th>\n",
       "      <td>France</td>\n",
       "      <td>A dry style of Pinot Gris, this is crisp with ...</td>\n",
       "      <td>NaN</td>\n",
       "      <td>90</td>\n",
       "      <td>32.0</td>\n",
       "      <td>Alsace</td>\n",
       "      <td>Alsace</td>\n",
       "      <td>NaN</td>\n",
       "      <td>Roger Voss</td>\n",
       "      <td>@vossroger</td>\n",
       "      <td>Domaine Marcel Deiss 2012 Pinot Gris (Alsace)</td>\n",
       "      <td>Pinot Gris</td>\n",
       "      <td>Domaine Marcel Deiss</td>\n",
       "    </tr>\n",
       "    <tr>\n",
       "      <th>129970</th>\n",
       "      <td>France</td>\n",
       "      <td>Big, rich and off-dry, this is powered by inte...</td>\n",
       "      <td>Lieu-dit Harth Cuvée Caroline</td>\n",
       "      <td>90</td>\n",
       "      <td>21.0</td>\n",
       "      <td>Alsace</td>\n",
       "      <td>Alsace</td>\n",
       "      <td>NaN</td>\n",
       "      <td>Roger Voss</td>\n",
       "      <td>@vossroger</td>\n",
       "      <td>Domaine Schoffit 2012 Lieu-dit Harth Cuvée Car...</td>\n",
       "      <td>Gewürztraminer</td>\n",
       "      <td>Domaine Schoffit</td>\n",
       "    </tr>\n",
       "  </tbody>\n",
       "</table>\n",
       "<p>129971 rows × 13 columns</p>\n",
       "</div>"
      ],
      "text/plain": [
       "         country  ...                                    winery\n",
       "wines             ...                                          \n",
       "0          Italy  ...                                   Nicosia\n",
       "1       Portugal  ...                       Quinta dos Avidagos\n",
       "2             US  ...                                 Rainstorm\n",
       "3             US  ...                                St. Julian\n",
       "4             US  ...                              Sweet Cheeks\n",
       "...          ...  ...                                       ...\n",
       "129966   Germany  ...  Dr. H. Thanisch (Erben Müller-Burggraef)\n",
       "129967        US  ...                                  Citation\n",
       "129968    France  ...                           Domaine Gresser\n",
       "129969    France  ...                      Domaine Marcel Deiss\n",
       "129970    France  ...                          Domaine Schoffit\n",
       "\n",
       "[129971 rows x 13 columns]"
      ]
     },
     "execution_count": 51,
     "metadata": {},
     "output_type": "execute_result"
    }
   ],
   "source": [
    "# rename_axis는 멀티인덱스의 이름을 변경할 수 있게 함\n",
    "reindexed = reviews.rename_axis('wines', axis='rows')\n",
    "reindexed"
   ]
  },
  {
   "cell_type": "markdown",
   "metadata": {
    "id": "6ocmIkIYRF4k"
   },
   "source": [
    "## 34~36\n",
    "\n",
    "You have the following information on customer."
   ]
  },
  {
   "cell_type": "code",
   "execution_count": 52,
   "metadata": {
    "colab": {
     "base_uri": "https://localhost:8080/",
     "height": 206
    },
    "id": "KdMs2ot6RTLJ",
    "outputId": "75a7c2fd-ba6a-4684-d3c4-afd83b6ac77d"
   },
   "outputs": [
    {
     "data": {
      "text/html": [
       "<div>\n",
       "<style scoped>\n",
       "    .dataframe tbody tr th:only-of-type {\n",
       "        vertical-align: middle;\n",
       "    }\n",
       "\n",
       "    .dataframe tbody tr th {\n",
       "        vertical-align: top;\n",
       "    }\n",
       "\n",
       "    .dataframe thead th {\n",
       "        text-align: right;\n",
       "    }\n",
       "</style>\n",
       "<table border=\"1\" class=\"dataframe\">\n",
       "  <thead>\n",
       "    <tr style=\"text-align: right;\">\n",
       "      <th></th>\n",
       "      <th>customer_id</th>\n",
       "      <th>name</th>\n",
       "      <th>Gender</th>\n",
       "    </tr>\n",
       "  </thead>\n",
       "  <tbody>\n",
       "    <tr>\n",
       "      <th>0</th>\n",
       "      <td>101</td>\n",
       "      <td>Kim</td>\n",
       "      <td>F</td>\n",
       "    </tr>\n",
       "    <tr>\n",
       "      <th>1</th>\n",
       "      <td>102</td>\n",
       "      <td>Tong</td>\n",
       "      <td>F</td>\n",
       "    </tr>\n",
       "    <tr>\n",
       "      <th>2</th>\n",
       "      <td>103</td>\n",
       "      <td>Wang</td>\n",
       "      <td>F</td>\n",
       "    </tr>\n",
       "    <tr>\n",
       "      <th>3</th>\n",
       "      <td>104</td>\n",
       "      <td>Oh</td>\n",
       "      <td>M</td>\n",
       "    </tr>\n",
       "    <tr>\n",
       "      <th>4</th>\n",
       "      <td>105</td>\n",
       "      <td>Lee</td>\n",
       "      <td>M</td>\n",
       "    </tr>\n",
       "  </tbody>\n",
       "</table>\n",
       "</div>"
      ],
      "text/plain": [
       "   customer_id  name Gender\n",
       "0          101   Kim      F\n",
       "1          102  Tong      F\n",
       "2          103  Wang      F\n",
       "3          104    Oh      M\n",
       "4          105   Lee      M"
      ]
     },
     "execution_count": 52,
     "metadata": {},
     "output_type": "execute_result"
    }
   ],
   "source": [
    "import pandas as pd\n",
    "\n",
    "cust = {\"customer_id\":[101,102,103,104,105], \"name\":[\"Kim\", \"Tong\", \"Wang\", \"Oh\", \"Lee\"], \"Gender\":[\"F\", \"F\", \"F\", \"M\", \"M\"]}\n",
    "customer = pd.DataFrame(cust)\n",
    "customer"
   ]
  },
  {
   "cell_type": "markdown",
   "metadata": {
    "id": "iasu_URXSJEb"
   },
   "source": [
    "You also have the following information on the accident:"
   ]
  },
  {
   "cell_type": "code",
   "execution_count": 53,
   "metadata": {
    "colab": {
     "base_uri": "https://localhost:8080/",
     "height": 363
    },
    "id": "NxivMLCFSENi",
    "outputId": "1ee40e4d-f804-4ec3-dc82-882943aaee00"
   },
   "outputs": [
    {
     "data": {
      "text/html": [
       "<div>\n",
       "<style scoped>\n",
       "    .dataframe tbody tr th:only-of-type {\n",
       "        vertical-align: middle;\n",
       "    }\n",
       "\n",
       "    .dataframe tbody tr th {\n",
       "        vertical-align: top;\n",
       "    }\n",
       "\n",
       "    .dataframe thead th {\n",
       "        text-align: right;\n",
       "    }\n",
       "</style>\n",
       "<table border=\"1\" class=\"dataframe\">\n",
       "  <thead>\n",
       "    <tr style=\"text-align: right;\">\n",
       "      <th></th>\n",
       "      <th>accident_id</th>\n",
       "      <th>loss_amount</th>\n",
       "      <th>year</th>\n",
       "      <th>customer_id</th>\n",
       "    </tr>\n",
       "  </thead>\n",
       "  <tbody>\n",
       "    <tr>\n",
       "      <th>0</th>\n",
       "      <td>1</td>\n",
       "      <td>345</td>\n",
       "      <td>2015</td>\n",
       "      <td>101</td>\n",
       "    </tr>\n",
       "    <tr>\n",
       "      <th>1</th>\n",
       "      <td>2</td>\n",
       "      <td>210</td>\n",
       "      <td>2016</td>\n",
       "      <td>103</td>\n",
       "    </tr>\n",
       "    <tr>\n",
       "      <th>2</th>\n",
       "      <td>3</td>\n",
       "      <td>230</td>\n",
       "      <td>2017</td>\n",
       "      <td>104</td>\n",
       "    </tr>\n",
       "    <tr>\n",
       "      <th>3</th>\n",
       "      <td>4</td>\n",
       "      <td>102</td>\n",
       "      <td>2018</td>\n",
       "      <td>102</td>\n",
       "    </tr>\n",
       "    <tr>\n",
       "      <th>4</th>\n",
       "      <td>5</td>\n",
       "      <td>441</td>\n",
       "      <td>2019</td>\n",
       "      <td>105</td>\n",
       "    </tr>\n",
       "    <tr>\n",
       "      <th>5</th>\n",
       "      <td>6</td>\n",
       "      <td>981</td>\n",
       "      <td>2020</td>\n",
       "      <td>107</td>\n",
       "    </tr>\n",
       "    <tr>\n",
       "      <th>6</th>\n",
       "      <td>7</td>\n",
       "      <td>104</td>\n",
       "      <td>2019</td>\n",
       "      <td>108</td>\n",
       "    </tr>\n",
       "    <tr>\n",
       "      <th>7</th>\n",
       "      <td>8</td>\n",
       "      <td>85</td>\n",
       "      <td>2018</td>\n",
       "      <td>101</td>\n",
       "    </tr>\n",
       "    <tr>\n",
       "      <th>8</th>\n",
       "      <td>9</td>\n",
       "      <td>102</td>\n",
       "      <td>2017</td>\n",
       "      <td>103</td>\n",
       "    </tr>\n",
       "    <tr>\n",
       "      <th>9</th>\n",
       "      <td>10</td>\n",
       "      <td>76</td>\n",
       "      <td>2016</td>\n",
       "      <td>110</td>\n",
       "    </tr>\n",
       "  </tbody>\n",
       "</table>\n",
       "</div>"
      ],
      "text/plain": [
       "   accident_id  loss_amount  year  customer_id\n",
       "0            1          345  2015          101\n",
       "1            2          210  2016          103\n",
       "2            3          230  2017          104\n",
       "3            4          102  2018          102\n",
       "4            5          441  2019          105\n",
       "5            6          981  2020          107\n",
       "6            7          104  2019          108\n",
       "7            8           85  2018          101\n",
       "8            9          102  2017          103\n",
       "9           10           76  2016          110"
      ]
     },
     "execution_count": 53,
     "metadata": {},
     "output_type": "execute_result"
    }
   ],
   "source": [
    "acci = {\"accident_id\":[1,2,3,4,5,6,7,8,9,10], \"loss_amount\":[345, 210, 230, 102, 441, 981, 104, 85, 102, 76], \"year\":[2015, 2016, 2017, 2018, 2019, 2020, 2019, 2018, 2017, 2016], \"customer_id\":[101, 103, 104, 102, 105, 107, 108, 101, 103, 110]}\n",
    "accident = pd.DataFrame(acci)\n",
    "accident"
   ]
  },
  {
   "cell_type": "markdown",
   "metadata": {
    "id": "3vrPEfCjS_gc"
   },
   "source": [
    "Answer the following questions.\n",
    "\n",
    "## 34. Make a pandas table which include all the information on customer (101~105) and corresponding accidents."
   ]
  },
  {
   "cell_type": "code",
   "execution_count": 54,
   "metadata": {
    "colab": {
     "base_uri": "https://localhost:8080/",
     "height": 269
    },
    "id": "-Q1MxY8nS0e6",
    "outputId": "32ac12ed-de5f-457e-8dcc-130c234bb272"
   },
   "outputs": [
    {
     "data": {
      "text/html": [
       "<div>\n",
       "<style scoped>\n",
       "    .dataframe tbody tr th:only-of-type {\n",
       "        vertical-align: middle;\n",
       "    }\n",
       "\n",
       "    .dataframe tbody tr th {\n",
       "        vertical-align: top;\n",
       "    }\n",
       "\n",
       "    .dataframe thead th {\n",
       "        text-align: right;\n",
       "    }\n",
       "</style>\n",
       "<table border=\"1\" class=\"dataframe\">\n",
       "  <thead>\n",
       "    <tr style=\"text-align: right;\">\n",
       "      <th></th>\n",
       "      <th>customer_id</th>\n",
       "      <th>name</th>\n",
       "      <th>Gender</th>\n",
       "      <th>accident_id</th>\n",
       "      <th>loss_amount</th>\n",
       "      <th>year</th>\n",
       "    </tr>\n",
       "  </thead>\n",
       "  <tbody>\n",
       "    <tr>\n",
       "      <th>0</th>\n",
       "      <td>101</td>\n",
       "      <td>Kim</td>\n",
       "      <td>F</td>\n",
       "      <td>1</td>\n",
       "      <td>345</td>\n",
       "      <td>2015</td>\n",
       "    </tr>\n",
       "    <tr>\n",
       "      <th>1</th>\n",
       "      <td>101</td>\n",
       "      <td>Kim</td>\n",
       "      <td>F</td>\n",
       "      <td>8</td>\n",
       "      <td>85</td>\n",
       "      <td>2018</td>\n",
       "    </tr>\n",
       "    <tr>\n",
       "      <th>2</th>\n",
       "      <td>102</td>\n",
       "      <td>Tong</td>\n",
       "      <td>F</td>\n",
       "      <td>4</td>\n",
       "      <td>102</td>\n",
       "      <td>2018</td>\n",
       "    </tr>\n",
       "    <tr>\n",
       "      <th>3</th>\n",
       "      <td>103</td>\n",
       "      <td>Wang</td>\n",
       "      <td>F</td>\n",
       "      <td>2</td>\n",
       "      <td>210</td>\n",
       "      <td>2016</td>\n",
       "    </tr>\n",
       "    <tr>\n",
       "      <th>4</th>\n",
       "      <td>103</td>\n",
       "      <td>Wang</td>\n",
       "      <td>F</td>\n",
       "      <td>9</td>\n",
       "      <td>102</td>\n",
       "      <td>2017</td>\n",
       "    </tr>\n",
       "    <tr>\n",
       "      <th>5</th>\n",
       "      <td>104</td>\n",
       "      <td>Oh</td>\n",
       "      <td>M</td>\n",
       "      <td>3</td>\n",
       "      <td>230</td>\n",
       "      <td>2017</td>\n",
       "    </tr>\n",
       "    <tr>\n",
       "      <th>6</th>\n",
       "      <td>105</td>\n",
       "      <td>Lee</td>\n",
       "      <td>M</td>\n",
       "      <td>5</td>\n",
       "      <td>441</td>\n",
       "      <td>2019</td>\n",
       "    </tr>\n",
       "  </tbody>\n",
       "</table>\n",
       "</div>"
      ],
      "text/plain": [
       "   customer_id  name Gender  accident_id  loss_amount  year\n",
       "0          101   Kim      F            1          345  2015\n",
       "1          101   Kim      F            8           85  2018\n",
       "2          102  Tong      F            4          102  2018\n",
       "3          103  Wang      F            2          210  2016\n",
       "4          103  Wang      F            9          102  2017\n",
       "5          104    Oh      M            3          230  2017\n",
       "6          105   Lee      M            5          441  2019"
      ]
     },
     "execution_count": 54,
     "metadata": {},
     "output_type": "execute_result"
    }
   ],
   "source": [
    "# 101~105 customer의 정보를 merge를 이용해 합쳐줌. 이때 합치는 기준은 customer_id\n",
    "table = pd.merge(customer,accident, how='left',on = ['customer_id'])\n",
    "table"
   ]
  },
  {
   "cell_type": "markdown",
   "metadata": {
    "id": "IniQpQr8TOmq"
   },
   "source": [
    "## 35. Calculate the total loss for each customer (101~105)."
   ]
  },
  {
   "cell_type": "code",
   "execution_count": 55,
   "metadata": {
    "id": "g3gncj0QTkg7"
   },
   "outputs": [],
   "source": [
    "total_loss = table['loss_amount'].groupby(table['customer_id']).sum()"
   ]
  },
  {
   "cell_type": "code",
   "execution_count": 56,
   "metadata": {
    "colab": {
     "base_uri": "https://localhost:8080/"
    },
    "id": "X2B4dnkQNHbc",
    "outputId": "2fd32749-c40b-4625-c436-cce96a58786a"
   },
   "outputs": [
    {
     "data": {
      "text/plain": [
       "customer_id\n",
       "101    430\n",
       "102    102\n",
       "103    312\n",
       "104    230\n",
       "105    441\n",
       "Name: loss_amount, dtype: int64"
      ]
     },
     "execution_count": 56,
     "metadata": {},
     "output_type": "execute_result"
    }
   ],
   "source": [
    "total_loss"
   ]
  },
  {
   "cell_type": "markdown",
   "metadata": {
    "id": "7FF71N36TnVf"
   },
   "source": [
    "## 36. Calculate the total loss for Female (Gender=\"F\") and Male (Gender=\"M\"), respectively."
   ]
  },
  {
   "cell_type": "code",
   "execution_count": 57,
   "metadata": {
    "id": "wpSQZBPfUSW7"
   },
   "outputs": [],
   "source": [
    "total_loss_gender = table['loss_amount'].groupby(table['Gender']).sum()"
   ]
  },
  {
   "cell_type": "code",
   "execution_count": 58,
   "metadata": {
    "colab": {
     "base_uri": "https://localhost:8080/"
    },
    "id": "5tNxd0vsNSjz",
    "outputId": "d836f8e9-dc75-4bb2-f62c-60acb27d5b40"
   },
   "outputs": [
    {
     "data": {
      "text/plain": [
       "Gender\n",
       "F    844\n",
       "M    671\n",
       "Name: loss_amount, dtype: int64"
      ]
     },
     "execution_count": 58,
     "metadata": {},
     "output_type": "execute_result"
    }
   ],
   "source": [
    "total_loss_gender"
   ]
  }
 ],
 "metadata": {
  "colab": {
   "collapsed_sections": [],
   "name": "HW5_PANDAS_combined.ipynb",
   "provenance": []
  },
  "kernelspec": {
   "display_name": "Python 3",
   "language": "python",
   "name": "python3"
  },
  "language_info": {
   "codemirror_mode": {
    "name": "ipython",
    "version": 3
   },
   "file_extension": ".py",
   "mimetype": "text/x-python",
   "name": "python",
   "nbconvert_exporter": "python",
   "pygments_lexer": "ipython3",
   "version": "3.8.8"
  }
 },
 "nbformat": 4,
 "nbformat_minor": 1
}
