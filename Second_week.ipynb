{
  "nbformat": 4,
  "nbformat_minor": 0,
  "metadata": {
    "colab": {
      "name": "통프HW2_1876261이다인.ipynb",
      "provenance": [],
      "collapsed_sections": []
    },
    "kernelspec": {
      "name": "python3",
      "display_name": "Python 3"
    },
    "language_info": {
      "name": "python"
    }
  },
  "cells": [
    {
      "cell_type": "markdown",
      "metadata": {
        "id": "o-0VLTAM7O34"
      },
      "source": [
        "# HW 2\n",
        "\n",
        "## Problem 1> Write a Python function to check whether a number is perfect or not."
      ]
    },
    {
      "cell_type": "markdown",
      "metadata": {
        "id": "iAunCdd67YUu"
      },
      "source": [
        
        "\n",
        "\n",
        "\n",
        "#<font color='green'> Explanation starts here!!!!</font>\n",
        "\n",
        "Our goal is to obtain\n",
        "\n",
        "```\n",
        "> According to Wikipedia : In number theory, a perfect number is a positive integer\n",
        "that is equal to the sum of its proper positive divisors, that is, the sum of its\n",
        "positive divisors excluding the number itself (also known as its aliquot sum).\n",
        "Equivalently, a perfect number is a number that is half the sum of all of its\n",
        "positive divisors (including itself).\n",
        "> Example : The first perfect number is 6, because 1, 2, and 3 are its proper\n",
        "positive divisors, and 1 + 2 + 3 = 6. Equivalently, the number 6 is equal to half\n",
        "the sum of all its positive divisors: ( 1 + 2 + 3 + 6 ) / 2 = 6. The next perfect\n",
        "number is 28 = 1 + 2 + 4 + 7 + 14. This is followed by the perfect numbers 496\n",
        "and 8128\n",
        "```\n"
      ]
    },
    {
      "cell_type": "markdown",
      "metadata": {
        "id": "6dMFP0OO8Rkc"
      },
      "source": [
        "(완전수(完全數)는 자기 자신을 제외한 양의 약수를 더했을 때 자기 자신이 되는 양의 정수)\n",
        "\n",
        "즉, 우선 받은 해당 인자의 양의 약수들을 먼저 구해야한다.(자기 자신을 제외하고)\n",
        "그 약수들을 해당 리스트에 넣고 sum을 이용해 리스트의 모든 수를 더한 값이 받은 인자와 같다면 This number is perfect를 출력하도록 하자."
      ]
    },
    {
      "cell_type": "markdown",
      "metadata": {
        "id": "VRuqVIiZAFcF"
      },
      "source": [
        "\n",
        "\n",
        "#<font color='green'> Explanation ends here!!!!</font>\n",
        "\n",
        "# <font color='red'><<<**Finally Answer**>>></font>"
      ]
    },
    {
      "cell_type": "code",
      "metadata": {
        "id": "VNpgOIn76zGZ"
      },
      "source": [
        "def perfect_number(n):\n",
        "  number_list = []\n",
        "  for i in range(1,n):\n",
        "    if n%i==0:\n",
        "      number_list.append(i)\n",
        "  \n",
        "  if sum(number_list)==n:\n",
        "    print('This number is perfect')\n",
        "  else:\n",
        "    print('This number is not perfect')"
      ],
      "execution_count": 2,
      "outputs": []
    },
    {
      "cell_type": "code",
      "metadata": {
        "colab": {
          "base_uri": "https://localhost:8080/"
        },
        "id": "dxaCaPSP_uvM",
        "outputId": "23fab94e-8902-4f64-885c-fffcf1e771d5"
      },
      "source": [
        "perfect_number(28)"
      ],
      "execution_count": 3,
      "outputs": [
        {
          "output_type": "stream",
          "name": "stdout",
          "text": [
            "This number is perfect\n"
          ]
        }
      ]
    },
    {
      "cell_type": "markdown",
      "metadata": {
        "id": "3-m5VLpHw2e-"
      },
      "source": [
        "## Problem 2>  Write a Python function that checks whether a passed string is palindrome or not\n"
      ]
    },
    {
      "cell_type": "markdown",
      "metadata": {
        "id": "bIZ5QkIAxdh9"
      },
      "source": [
        
        "\n",
        "\n",
        "\n",
        "#<font color='green'> Explanation starts here!!!!</font>\n",
        "\n",
        "Our goal is to obtain\n",
        "\n",
        "```\n",
        "A palindrome is a word, phrase, or sequence that reads the same backward\n",
        "as forward, e.g., madam or nurses run\n",
        "따라서 어떤 string을 input으로 받은 뒤 그 string이 palindrome인지 아닌지를 판별해야한다.\n",
        "```"
      ]
    },
    {
      "cell_type": "markdown",
      "metadata": {
        "id": "S6ydk3uyxyvL"
      },
      "source": [
        "한쪽은 앞에서부터 한쪽은 뒤에서부터 출발해 각각 원소를 비교해나가는데, 모든 원소가 같다면 This string is palindrome이라는 문구를 출력하는 함수를 떠올렸다.\n",
        "이때 뒤에서부터 출발하는 for loop을 만들기 위해 reversed를 이용한다.\n",
        "또한 string에서 문자만 비교하면 되기 때문에, 처음에 문자열에 공백이 있다면 replace를 이용해 제거하고 시작한다.\n",
        "뒤에서부터 출발한 것과 앞에서 출발한 것이 만나면 중지하도록 i<(len(string)-(i+1))을 이용했으며, 만약 for loop을 돌다가 원소가 하나라도 다르면 바로 This string is not palindrome을 print하고 a에 1을 할당한 뒤 loop을 빠져나온다.\n",
        "최종적으로 모든 for loop을 돌고 나서도 a가 처음 초기화 한 그대로 0이라면 palindrome이기 때문에 This string is palindrome을 출력한다.\n"
      ]
    },
    {
      "cell_type": "markdown",
      "metadata": {
        "id": "HxF_6QYV9r6Q"
      },
      "source": [
        "추가로 palindrome은 대문자와 소문자 구문이 없기에 애초에 string을 받았을 때 모두 소문자로 변환해주고 또한 특수문자가 포함되어있으면 특수문자또한 원소로 인식하기 때문에 특수문자도 제거해주었다"
      ]
    },
    {
      "cell_type": "markdown",
      "metadata": {
        "id": "KefrpS7x-BOT"
      },
      "source": [
        "\n",
        "#<font color='green'> Explanation ends here!!!!</font>\n",
        "\n",
        "# <font color='red'><<<**Finally Answer**>>></font>"
      ]
    },
    {
      "cell_type": "code",
      "metadata": {
        "id": "DbWbZc7Qwm0T"
      },
      "source": [
        "def palindrome(string):\n",
        "  a=0\n",
        "  string = string.lower()\n",
        "  characters = \"'!?,.~ \"\n",
        "  for x in range(len(characters)):\n",
        "    string = string.replace(characters[x],\"\")\n",
        "  for i in range(len(string)):\n",
        "    if i<(len(string)-(i+1)):\n",
        "      if string[i]!=string[len(string)-(i+1)]:\n",
        "        print('This string is not palindrome')\n",
        "        a=1\n",
        "        break\n",
        "    else:\n",
        "      break\n",
        "\n",
        "  if a==0:\n",
        "    print('This string is palindrome')  "
      ],
      "execution_count": 4,
      "outputs": []
    },
    {
      "cell_type": "code",
      "metadata": {
        "colab": {
          "base_uri": "https://localhost:8080/"
        },
        "id": "dar_rx6Xwmw0",
        "outputId": "548bd9c4-f91c-435b-8872-6b3affdeafbb"
      },
      "source": [
        "palindrome('A Toyota!')"
      ],
      "execution_count": 5,
      "outputs": [
        {
          "output_type": "stream",
          "name": "stdout",
          "text": [
            "This string is palindrome\n"
          ]
        }
      ]
    },
    {
      "cell_type": "markdown",
      "metadata": {
        "id": "7PYcRQGv9_DM"
      },
      "source": [
        "## Problem 3> Write a Python class named Circle constructed by a radius and two methods which will compute the area and the perimeter of a circle. "
      ]
    },
    {
      "cell_type": "markdown",
      "metadata": {
        "id": "ZfjAj4ak-HEg"
      },
      "source": [
        
        "\n",
        "\n",
        "\n",
        "#<font color='green'> Explanation starts here!!!!</font>\n",
        "\n",
        "Our goal is to obtain\n",
        "\n",
        "```\n",
        "> a=3.0\n",
        "> cir0 = Circle(a)\n",
        "> print( cir0.area(), cir0.perimeter() )\n",
        "```"
      ]
    },
    {
      "cell_type": "markdown",
      "metadata": {
        "id": "tj_BEkwIBWiM"
      },
      "source": [
        "클래스는 과자를 만드는 과자틀로 클래스로 생성된 객체는 고유한 성격을 가진다는 특징이 있다\n",
        "클래스 안에 area를 계산하는 함수(Method), perimeter를 계산하는 함수(Method) 두가지를 구현한다."
      ]
    },
    {
      "cell_type": "markdown",
      "metadata": {
        "id": "j-EL6PHlp8JO"
      },
      "source": [
        "python method 이름으로 __init__을 사용하면 이 메서드는 생성자가 된다."
      ]
    },
    {
      "cell_type": "markdown",
      "metadata": {
        "id": "Q5eDLyqQAFtw"
      },
      "source": [
        "반지름을 받아서 원의 면적과 둘레를 구하쟝"
      ]
    },
    {
      "cell_type": "markdown",
      "metadata": {
        "id": "1ww2IEJO110Q"
      },
      "source": [
        "\n",
        "#<font color='green'> Explanation ends here!!!!</font>\n",
        "\n",
        "# <font color='red'><<<**Finally Answer**>>></font>"
      ]
    },
    {
      "cell_type": "code",
      "metadata": {
        "id": "LF9Z6YZM-58V"
      },
      "source": [
        "class Circle:\n",
        "  def __init__(self,radius):\n",
        "    self.radius = radius\n",
        "\n",
        "  def area(self):\n",
        "    area = pi * self.radius ** 2\n",
        "    return area\n",
        "\n",
        "  def perimeter(self):\n",
        "    perimeter = 2 * pi * self.radius\n",
        "    return perimeter"
      ],
      "execution_count": 6,
      "outputs": []
    },
    {
      "cell_type": "code",
      "metadata": {
        "colab": {
          "base_uri": "https://localhost:8080/"
        },
        "id": "dD0A8SuB-50O",
        "outputId": "64bf56e4-1f7b-4609-cc19-78f2233f26f5"
      },
      "source": [
        "from math import pi\n",
        "\n",
        "a=3.0\n",
        "cir0 = Circle(a)\n",
        "print(cir0.area(), cir0.perimeter())"
      ],
      "execution_count": 7,
      "outputs": [
        {
          "output_type": "stream",
          "name": "stdout",
          "text": [
            "28.274333882308138 18.84955592153876\n"
          ]
        }
      ]
    },
    {
      "cell_type": "markdown",
      "metadata": {
        "id": "7TLP-z2f1xVF"
      },
      "source": [
        "## Problem 4> Write a Python class named more_Circle inherited from Circle in Problem 3. This more_Circle class has one more member (color) and additional method which print the information of the circle."
      ]
    },
    {
      "cell_type": "markdown",
      "metadata": {
        "id": "co07Bs7u1xNp"
      },
      "source": [
        
        "\n",
        "\n",
        "\n",
        "#<font color='green'> Explanation starts here!!!!</font>\n",
        "\n",
        "\n",
        "Our goal is to obtain\n",
        "\n",
        "```\n",
        "> a=3.0\n",
        "> b=“red”\n",
        "> cir0 = more_Circle(a, b)\n",
        "> cir0.get_information()\n",
        "Radious 3.0, color red, perimeter 9.42477796076938, area = 28.274333882308138, \n",
        "```"
      ]
    },
    {
      "cell_type": "markdown",
      "metadata": {
        "id": "tFLvBxWQ2FU7"
      },
      "source": [
        "클래스를 상속하기 위해서는 다음처럼 class 클래스 이름(상속할 클래스 이름) 을 해주면 된다.보통 상속은 기존 클래스를 변경하지 않고 기능을 추가하거나 기존 기능을 변경하려고 할 때 사용한다."
      ]
    },
    {
      "cell_type": "markdown",
      "metadata": {
        "id": "oiKdTjU88gle"
      },
      "source": [
        "\n",
        "#<font color='green'> Explanation ends here!!!!</font>\n",
        "\n",
        "# <font color='red'><<<**Finally Answer**>>></font>"
      ]
    },
    {
      "cell_type": "code",
      "metadata": {
        "id": "CaN9g0hx5vVK"
      },
      "source": [
        "class more_Circle(Circle):\n",
        "  def __init__(self, radius, color):\n",
        "    Circle.__init__(self, radius) \n",
        "    self.color = color\n",
        "\n",
        "  def get_information(self):\n",
        "    print('Radious : ', self.radius)\n",
        "    print('Color : ',self.color)\n",
        "    print('Perimeter : ', self.perimeter())\n",
        "    print('Area : ', self.area())"
      ],
      "execution_count": 8,
      "outputs": []
    },
    {
      "cell_type": "code",
      "metadata": {
        "colab": {
          "base_uri": "https://localhost:8080/"
        },
        "id": "kOFddFFi7PHO",
        "outputId": "beddd945-0840-4f5a-c71e-2daa51ea9551"
      },
      "source": [
        "a=3.0\n",
        "b='red'\n",
        "cir0 = more_Circle(a, b)\n",
        "cir0.get_information()"
      ],
      "execution_count": 9,
      "outputs": [
        {
          "output_type": "stream",
          "name": "stdout",
          "text": [
            "Radious :  3.0\n",
            "Color :  red\n",
            "Perimeter :  18.84955592153876\n",
            "Area :  28.274333882308138\n"
          ]
        }
      ]
    },
    {
      "cell_type": "markdown",
      "metadata": {
        "id": "bpgud3KqwjKo"
      },
      "source": [
        "## Problem 5> If you have a calculator class, Create a class named “MaxLimitCalculator”, inherited from the class Calculator, whose member “x” starts from 0. You have “add” method but the result cannot exceed 100 working as follows:"
      ]
    },
    {
      "cell_type": "markdown",
      "metadata": {
        "id": "xJp8RyIsnqsT"
      },
      "source": [
        
        "\n",
        "\n",
        "\n",
        "#<font color='green'> Explanation starts here!!!!</font>\n",
        "\n",
        "Below is the caculator class.\n",
        "\n",
        "```\n",
        "class Calculator:\n",
        " def __init__(self):\n",
        "  self.x = 0\n",
        " def add(self, val):\n",
        "  self.x += val\n",
        "\n",
        "```\n",
        "And the result we want is this.\n",
        "```\n",
        "> cal = MaxLimitCalculator()\n",
        "> print(cal.x)\n",
        "0\n",
        "> cal.add(50)\n",
        "> cal.add(60)\n",
        "> print(cal.x)\n",
        "100\n",
        "```"
      ]
    },
    {
      "cell_type": "markdown",
      "metadata": {
        "id": "FJUZhM7An6OM"
      },
      "source": [
        "일반적인 메소드 오버라이딩\n",
        "메소드 오버라이딩은 부모 클래스의 메소드를 자식 클래스에서 재정의 하는 것입니다.\n",
        "코드로 한번 보겠습니다. Korea 클래스에서 부모의 show 메소드를 재정의 합니다.\n",
        "부모 클래스의 show()메소드는 무시되고 자식클래스의 show()메소드가 수행됩니다."
      ]
    },
    {
      "cell_type": "markdown",
      "metadata": {
        "id": "ym_XcoBun-k7"
      },
      "source": [
        "\n",
        "#<font color='green'> Explanation ends here!!!!</font>\n",
        "\n",
        "# <font color='red'><<<**Finally Answer**>>></font>"
      ]
    },
    {
      "cell_type": "code",
      "metadata": {
        "id": "JFmG34LA7xzs"
      },
      "source": [
        "class Calculator:\n",
        "  def __init__(self):\n",
        "    self.x = 0\n",
        "  def add(self, val):\n",
        "    self.x += val"
      ],
      "execution_count": 11,
      "outputs": []
    },
    {
      "cell_type": "code",
      "metadata": {
        "id": "4NVPx1nJn8TN"
      },
      "source": [
        "class MaxLimitCalculator(Calculator):\n",
        "  def add(self, val):\n",
        "    self.x += val\n",
        "    if self.x>100:\n",
        "      self.x = 100    "
      ],
      "execution_count": 17,
      "outputs": []
    },
    {
      "cell_type": "code",
      "metadata": {
        "id": "n8eDwea57uX0"
      },
      "source": [
        "cal = MaxLimitCalculator()"
      ],
      "execution_count": 18,
      "outputs": []
    },
    {
      "cell_type": "code",
      "metadata": {
        "colab": {
          "base_uri": "https://localhost:8080/"
        },
        "id": "meXVzdlg76PG",
        "outputId": "5d23dfbd-192c-458f-b16d-7e178bf73072"
      },
      "source": [
        "print(cal.x)"
      ],
      "execution_count": 19,
      "outputs": [
        {
          "output_type": "stream",
          "name": "stdout",
          "text": [
            "0\n"
          ]
        }
      ]
    },
    {
      "cell_type": "code",
      "metadata": {
        "id": "H4ULeq_679yI"
      },
      "source": [
        "cal.add(50)"
      ],
      "execution_count": 20,
      "outputs": []
    },
    {
      "cell_type": "code",
      "metadata": {
        "id": "nxYNw_Tj79p-"
      },
      "source": [
        "cal.add(60)"
      ],
      "execution_count": 21,
      "outputs": []
    },
    {
      "cell_type": "code",
      "metadata": {
        "colab": {
          "base_uri": "https://localhost:8080/"
        },
        "id": "87by-4y98IGJ",
        "outputId": "0b0a7b26-4d12-4b0e-b2b3-0bec61a94f43"
      },
      "source": [
        "print(cal.x)"
      ],
      "execution_count": 22,
      "outputs": [
        {
          "output_type": "stream",
          "name": "stdout",
          "text": [
            "100\n"
          ]
        }
      ]
    },
    {
      "cell_type": "markdown",
      "metadata": {
        "id": "SYdnuYh08SFr"
      },
      "source": [
        "## Problem 6> (Algorithm: recursion)Using recursive function, write a Python function to get the sum of each digit in a non-negative integer. "
      ]
    },
    {
      "cell_type": "markdown",
      "metadata": {
        "id": "srEEjt7F815L"
      },
      "source": [
        
        "\n",
        "\n",
        "#<font color='green'> Explanation starts here!!!!</font>\n",
        "\n",
        "\n",
        "Our goal is to obtain\n",
        "\n",
        "```\n",
        "> # Test Data:\n",
        "> sumDigits(345) #-> 12\n",
        "> sumDigits(45) #-> 9\n",
        "```"
      ]
    },
    {
      "cell_type": "markdown",
      "metadata": {
        "id": "xCVgSTH-89TP"
      },
      "source": [
        "재귀 함수란, 자기 자신을 호출하는 함수"
      ]
    },
    {
      "cell_type": "markdown",
      "metadata": {
        "id": "PQoIUeBo9beI"
      },
      "source": [
        "#<font color='green'> Explanation ends here!!!!</font>\n",
        "\n",
        "# <font color='red'><<<**Finally Answer**>>></font>"
      ]
    },
    {
      "cell_type": "code",
      "metadata": {
        "id": "bcFoDdsJ9dpu"
      },
      "source": [
        "def sumDigits(n):\n",
        "  import math\n",
        "  if len(str(n)) > 1:\n",
        "    leng = len(str(n))\n",
        "    num = math.floor(n/(10**(leng-1)))\n",
        "    new_n = n - num*(10**(leng-1))\n",
        "    return num + sumDigits(new_n)\n",
        "  else:\n",
        "    return n"
      ],
      "execution_count": 82,
      "outputs": []
    },
    {
      "cell_type": "code",
      "metadata": {
        "colab": {
          "base_uri": "https://localhost:8080/"
        },
        "id": "lALyRu6PBGCK",
        "outputId": "6d8dd669-e727-4c31-df84-30a8834cf312"
      },
      "source": [
        "sumDigits(9876)"
      ],
      "execution_count": 87,
      "outputs": [
        {
          "output_type": "execute_result",
          "data": {
            "text/plain": [
              "30"
            ]
          },
          "metadata": {},
          "execution_count": 87
        }
      ]
    },
    {
      "cell_type": "markdown",
      "metadata": {
        "id": "oPh8EB-FJx1b"
      },
      "source": [
        "## Problem 7> (Algorithm: recursion) Towers of Hanoi\n",
        "# Rules of the Game\n",
        "Tower of Hanoi is a mathematical puzzle where we have three rods (say rod A,\n",
        "rod B, and rod C) and n disks. The objective of the puzzle is to move the entire\n",
        "stack from rod A to another rod C, obeying the following simple rules:\n",
        "\n",
        "1) Only one disk can be moved at a time.\n",
        "\n",
        "2) Each move consists of taking the upper disk from one of the stacks and placing\n",
        "it on top of another stack i.e. a disk can only be moved if it is the uppermost\n",
        "disk on a stack.\n",
        "\n",
        "83) No disk may be placed on top of a smaller disk."
      ]
    },
    {
      "cell_type": "markdown",
      "metadata": {
        "id": "8NzpqF6GKGzX"
      },
      "source": [
       
        "\n",
        "\n",
        "#<font color='green'> Explanation starts here!!!!</font>\n",
        "\n",
        "\n",
        "Write a recursive Python function which explains how to move n disks from rod A\n",
        "to rod C. For example, your function print the following:\n",
        "\n",
        "```\n",
        "> TowerOfHanoi(n, “A”, “B”, “C”)\n",
        "Move disk 1 from rod A to rod B\n",
        "Move disk 2 from rod A to rod C\n",
        "Move disk 1 from rod B to rod C\n",
        "Move disk 3 from rod A to rod B\n",
        "Move disk 1 from rod C to rod A\n",
        "Move disk 2 from rod C to rod B\n",
        "Move disk 1 from rod A to rod B\n",
        "Move disk 4 from rod A to rod C\n",
        "Move disk 1 from rod B to rod C\n",
        "Move disk 2 from rod B to rod A\n",
        "Move disk 1 from rod C to rod A\n",
        "Move disk 3 from rod B to rod C\n",
        "Move disk 1 from rod A to rod B\n",
        "Move disk 2 from rod A to rod C\n",
        "Move disk 1 from rod B to rod C\n",
        "```"
      ]
    },
    {
      "cell_type": "markdown",
      "metadata": {
        "id": "fPc8ozAhTwTJ"
      },
      "source": [
        "#<font color='green'> Explanation ends here!!!!</font>\n",
        "\n",
        "# <font color='red'><<<**Finally Answer**>>></font>"
      ]
    },
    {
      "cell_type": "code",
      "metadata": {
        "id": "YxzRHiIkZ_-9"
      },
      "source": [
        "# 하노이의 탑 \n",
        "def TowerOfHanoi(n, from_pos, aux_pos,to_pos ): \n",
        "  if n == 1: # 원반 한 개를 옮기는 문제면 그냥 옮기면 됨 \n",
        "    print('Move dist %d from rod %s to rod %s'%(n,from_pos, to_pos))\n",
        "    return \n",
        "  \n",
        "  # 원반 n - 1개를 aux_pos로 이동(to_pos를 보조 기둥으로) \n",
        "  TowerOfHanoi(n - 1, from_pos, to_pos,aux_pos) \n",
        "  # 가장 큰 원반을 목적지로 이동 \n",
        "  print('Move dist %d from rod %s to rod %s'%(n,from_pos, to_pos)) \n",
        "  # aux_pos에 있는 원반 n-1개를 목적지로 이동(from_pos를 보조 기둥으로) \n",
        "  TowerOfHanoi(n - 1, aux_pos,to_pos, from_pos)"
      ],
      "execution_count": 108,
      "outputs": []
    },
    {
      "cell_type": "code",
      "metadata": {
        "colab": {
          "base_uri": "https://localhost:8080/"
        },
        "id": "5_w-LsGaVYTe",
        "outputId": "44f61773-5f89-448c-d0cc-01d5cab7ebd3"
      },
      "source": [
        "TowerOfHanoi(4,\"A\",\"B\",\"C\")"
      ],
      "execution_count": 109,
      "outputs": [
        {
          "output_type": "stream",
          "name": "stdout",
          "text": [
            "Move dist 1 from rod A to rod B\n",
            "Move dist 2 from rod A to rod C\n",
            "Move dist 1 from rod B to rod A\n",
            "Move dist 3 from rod A to rod B\n",
            "Move dist 1 from rod C to rod B\n",
            "Move dist 2 from rod C to rod A\n",
            "Move dist 1 from rod B to rod C\n",
            "Move dist 4 from rod A to rod C\n",
            "Move dist 1 from rod B to rod A\n",
            "Move dist 2 from rod B to rod C\n",
            "Move dist 1 from rod A to rod B\n",
            "Move dist 3 from rod B to rod A\n",
            "Move dist 1 from rod C to rod A\n",
            "Move dist 2 from rod C to rod B\n",
            "Move dist 1 from rod A to rod C\n"
          ]
        }
      ]
    }
  ]
}
